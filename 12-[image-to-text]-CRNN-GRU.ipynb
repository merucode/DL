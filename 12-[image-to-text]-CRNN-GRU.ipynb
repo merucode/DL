{
  "nbformat": 4,
  "nbformat_minor": 0,
  "metadata": {
    "colab": {
      "private_outputs": true,
      "provenance": [],
      "gpuType": "T4",
      "include_colab_link": true
    },
    "kernelspec": {
      "name": "python3",
      "display_name": "Python 3"
    },
    "language_info": {
      "name": "python"
    },
    "accelerator": "GPU"
  },
  "cells": [
    {
      "cell_type": "markdown",
      "metadata": {
        "id": "view-in-github",
        "colab_type": "text"
      },
      "source": [
        "<a href=\"https://colab.research.google.com/github/merucode/DL/blob/01-colab-study_must_have_pytorch/12-%5Bimage-to-text%5D-CRNN-GRU.ipynb\" target=\"_parent\"><img src=\"https://colab.research.google.com/assets/colab-badge.svg\" alt=\"Open In Colab\"/></a>"
      ]
    },
    {
      "cell_type": "markdown",
      "source": [
        "## STEP 0. Version check and Install Dependency"
      ],
      "metadata": {
        "id": "LxkMBWDW9T3P"
      }
    },
    {
      "cell_type": "markdown",
      "source": [
        "Step 0-1. Version Check"
      ],
      "metadata": {
        "id": "0Fg2WcTOqf5A"
      }
    },
    {
      "cell_type": "code",
      "source": [
        "import sys\n",
        "import torch\n",
        "print(f\"Python version:{sys.version}\")                  # python\n",
        "print(\"Torch version:{}\".format(torch.__version__))     # torch\n",
        "print(\"cuda version: {}\".format(torch.version.cuda))    # cuda\n",
        "print(\"cudnn version:{}\".format(torch.backends.cudnn.version()))    # cudnn"
      ],
      "metadata": {
        "id": "pvZ7Lm3Apv1B"
      },
      "execution_count": null,
      "outputs": []
    },
    {
      "cell_type": "markdown",
      "source": [
        "Step 0-2. Install Dependency"
      ],
      "metadata": {
        "id": "cNpk3WdHys1f"
      }
    },
    {
      "cell_type": "code",
      "source": [
        "!export export KAGGLE_USERNAME=*** && export KAGGLE_KEY=*** && kaggle datasets download -d fournierp/captcha-version-2-images\n",
        "!unzip captcha-version-2-images.zip"
      ],
      "metadata": {
        "id": "4nHx6000RcSz"
      },
      "execution_count": null,
      "outputs": []
    },
    {
      "cell_type": "markdown",
      "source": [],
      "metadata": {
        "id": "RPQhlV6sRSRn"
      }
    },
    {
      "cell_type": "markdown",
      "source": [
        "## STEP 1. Check Data"
      ],
      "metadata": {
        "id": "TquybxQaqfE5"
      }
    },
    {
      "cell_type": "markdown",
      "source": [
        "Step 1-1. Load data"
      ],
      "metadata": {
        "id": "OiEgwO4nzBQ4"
      }
    },
    {
      "cell_type": "code",
      "source": [
        "import matplotlib.pyplot as plt\n",
        "import glob\n",
        "\n",
        "from PIL import Image\n",
        "\n",
        "imgfile = glob.glob(\n",
        "    \"/content/samples/*.png\"\n",
        "    )[0]  # 이미지까지의 경로\n",
        "imgfile = Image.open(imgfile)  # 이미지를 읽어옴"
      ],
      "metadata": {
        "id": "O_1DAWvLxNST"
      },
      "execution_count": null,
      "outputs": []
    },
    {
      "cell_type": "markdown",
      "source": [
        "Step 1-2. Check data type"
      ],
      "metadata": {
        "id": "yLz34AIjzFI_"
      }
    },
    {
      "cell_type": "code",
      "source": [
        "plt.imshow(imgfile)\n",
        "plt.show()"
      ],
      "metadata": {
        "id": "BIwItmZr48ck"
      },
      "execution_count": null,
      "outputs": []
    },
    {
      "cell_type": "markdown",
      "source": [
        "## STEP 2. Dataset"
      ],
      "metadata": {
        "id": "dHoQK0Vw5UWP"
      }
    },
    {
      "cell_type": "markdown",
      "source": [
        "Step 2-1. BOW"
      ],
      "metadata": {
        "id": "B4jMESbH5T7X"
      }
    },
    {
      "cell_type": "code",
      "source": [
        "import numpy as np\n",
        "import string\n",
        "\n",
        "# 문자들로부터 BOW를 만드는 함수\n",
        "def get_BOW(corpus):\n",
        "   # 공백문자 <pad>를 0으로 설정\n",
        "   BOW = {\"<pad>\":0}\n",
        "\n",
        "   # corpus의 문자들을 이용해 BOW에 고유번호 추가\n",
        "   for letter in corpus:\n",
        "       if letter not in BOW.keys():\n",
        "           BOW[letter] = len(BOW.keys())\n",
        "\n",
        "   return BOW"
      ],
      "metadata": {
        "id": "06rVfQL1SCYD"
      },
      "execution_count": null,
      "outputs": []
    },
    {
      "cell_type": "markdown",
      "source": [
        "Step 2-2. Dataset"
      ],
      "metadata": {
        "id": "Lk6SfCuISErH"
      }
    },
    {
      "cell_type": "code",
      "source": [
        "from torch.utils.data.dataset import Dataset\n",
        "\n",
        "class Captcha(Dataset):\n",
        "   def __init__(self, pth=\"/content/samples\", train=True):\n",
        "       # 소문자와 숫자만 정답으로 이용\n",
        "       self.corpus = string.ascii_lowercase + string.digits\n",
        "       self.BOW = get_BOW(self.corpus)\n",
        "\n",
        "       # 불러올 이미지 파일의 경로\n",
        "       self.imgfiles = glob.glob(pth+\"/*.png\")\n",
        "\n",
        "       self.train = train\n",
        "       self.trainset = self.imgfiles[:int(len(self.imgfiles)*0.8)]\n",
        "       self.testset = self.imgfiles[int(len(self.imgfiles)*0.8):]\n",
        "\n",
        "   # 문자와 숫자를 고유번호로 치환\n",
        "   def get_seq(self, line):\n",
        "       label = []\n",
        "\n",
        "       for letter in line:\n",
        "           label.append(self.BOW[letter])\n",
        "\n",
        "       return label\n",
        "\n",
        "   def __len__(self):\n",
        "       if self.train:\n",
        "           return len(self.trainset)\n",
        "       else:\n",
        "           return len(self.testset)\n",
        "\n",
        "   def __getitem__(self, i):\n",
        "       if self.train:\n",
        "           # png파일을 RGB파일로 변환\n",
        "           data = Image.open(self.trainset[i]).convert(\"RGB\")\n",
        "\n",
        "           label = self.trainset[i].split(\"/\")[-1]\n",
        "           # 파일이름에서 확장자를 제거\n",
        "           label = label.split(\".png\")[0]\n",
        "           # 정답 문자열을 BOW의 순열로 변환\n",
        "           label = self.get_seq(label)\n",
        "\n",
        "           data = np.array(data).astype(np.float32)\n",
        "           # 파이토치는 채널이 가장 앞에 와야 함\n",
        "           data = np.transpose(data, (2, 0, 1))\n",
        "           label = np.array(label)\n",
        "\n",
        "           return data, label\n",
        "\n",
        "       else:\n",
        "           data = Image.open(self.testset[i]).convert(\"RGB\")\n",
        "           label = self.testset[i].split(\"/\")[-1]\n",
        "           label = label.split(\".png\")[0]\n",
        "           label = self.get_seq(label)\n",
        "\n",
        "           data = np.array(data).astype(np.float32)\n",
        "           label = np.array(label)\n",
        "\n",
        "           return data, label"
      ],
      "metadata": {
        "id": "yWcStHfcR-HE"
      },
      "execution_count": null,
      "outputs": []
    },
    {
      "cell_type": "markdown",
      "source": [
        "Step 2-3. Dataloader"
      ],
      "metadata": {
        "id": "dWZOoDOVS1kE"
      }
    },
    {
      "cell_type": "code",
      "source": [
        "from torch.utils.data.dataloader import DataLoader\n",
        "\n",
        "dataset = Captcha()\n",
        "loader = DataLoader(dataset, batch_size=8)"
      ],
      "metadata": {
        "id": "5kAg428WSj_a"
      },
      "execution_count": null,
      "outputs": []
    },
    {
      "cell_type": "markdown",
      "source": [
        "## STEP 3. Module"
      ],
      "metadata": {
        "id": "UPv6ybM8zJYk"
      }
    },
    {
      "cell_type": "markdown",
      "source": [
        "Step 3-1. Basic Block"
      ],
      "metadata": {
        "id": "QQnNmDIS5iyx"
      }
    },
    {
      "cell_type": "code",
      "source": [
        "import torch\n",
        "import torch.nn as nn\n",
        "import torch.nn.functional as F\n",
        "\n",
        "# 3X5 크기의 커널을 이용\n",
        "class BasicBlock(nn.Module):\n",
        "   def __init__(self,\n",
        "                in_channels,\n",
        "                out_channels,\n",
        "                kernel_size=(3, 5),\n",
        "                stride=(2, 1)):\n",
        "       super(BasicBlock, self).__init__()\n",
        "\n",
        "       self.c1 = nn.Conv2d(in_channels=in_channels,\n",
        "                           out_channels=out_channels,\n",
        "                           kernel_size=kernel_size,\n",
        "                           stride=stride)\n",
        "       self.c2 = nn.Conv2d(in_channels=out_channels,\n",
        "                           out_channels=out_channels,\n",
        "                           kernel_size=(3, 3), padding=1)\n",
        "\n",
        "       self.downsample = nn.Conv2d(in_channels=in_channels,\n",
        "                                   out_channels=out_channels,\n",
        "                                   kernel_size=kernel_size,\n",
        "                                   stride=stride)\n",
        "\n",
        "       self.bn1 = nn.BatchNorm2d(num_features=out_channels)\n",
        "       self.bn2 = nn.BatchNorm2d(num_features=out_channels)\n",
        "\n",
        "       self.relu = nn.ReLU()\n",
        "\n",
        "   def forward(self, x):\n",
        "       x_ = x\n",
        "\n",
        "       x = self.c1(x)\n",
        "       x = self.bn1(x)\n",
        "       x = self.relu(x)\n",
        "       x = self.c2(x)\n",
        "       x = self.bn2(x)\n",
        "\n",
        "       x_ = self.downsample(x_)\n",
        "\n",
        "       x += x_\n",
        "       x = self.relu(x)\n",
        "\n",
        "       return x"
      ],
      "metadata": {
        "id": "upX0kiFjSdcF"
      },
      "execution_count": null,
      "outputs": []
    },
    {
      "cell_type": "markdown",
      "source": [
        "Step 3-2. CRNN"
      ],
      "metadata": {
        "id": "jFuay9Y0S9CB"
      }
    },
    {
      "cell_type": "code",
      "source": [
        "class CRNN(nn.Module):\n",
        "   def __init__(self, output_size):\n",
        "       super(CRNN, self).__init__()\n",
        "\n",
        "       # CNN층의 정의\n",
        "       self.c1 = BasicBlock(in_channels=3, out_channels=64)\n",
        "       self.c2 = BasicBlock(in_channels=64, out_channels=64)\n",
        "       self.c3 = BasicBlock(in_channels=64, out_channels=64)\n",
        "       self.c4 = BasicBlock(in_channels=64, out_channels=64)\n",
        "       self.c5 = nn.Conv2d(64, 64, kernel_size=(2, 5))\n",
        "\n",
        "       # 텍스트 정보를 추출할 GRU층\n",
        "       self.gru = nn.GRU(64, 64, batch_first=False)\n",
        "\n",
        "       # 분류를 위한 MLP층\n",
        "       self.fc1 = nn.Linear(in_features=64, out_features=128)\n",
        "       self.fc2 = nn.Linear(in_features=128, out_features=output_size)\n",
        "       self.relu = nn.ReLU()\n",
        "\n",
        "   def forward(self, x):\n",
        "       # 입력텐서의 모양(B, 3, 50, 200)\n",
        "       x = self.c1(x)\n",
        "       x = self.c2(x)\n",
        "       x = self.c3(x)\n",
        "       x = self.c4(x)\n",
        "       x = self.c5(x)\n",
        "       # 특징 추출 후 텐서의 모양(B, 64, 1, 180)\n",
        "\n",
        "       # (B, 64, 180)으로 모양을 변경\n",
        "       x = x.view(x.shape[0], 64, -1)\n",
        "       # (B, 180, 64)로 모양을 변경\n",
        "       x = x.permute(2, 0, 1)\n",
        "\n",
        "       # GRU로 시계열 정보 추출\n",
        "       x, _ = self.gru(x)\n",
        "\n",
        "       # FC층으로 각 픽셀 분류\n",
        "       x = self.fc1(x)\n",
        "       x = self.relu(x)\n",
        "       x = self.fc2(x)\n",
        "\n",
        "       #CTC 손실 계산을 위해 로그 소프트맥스를 이용\n",
        "       x = F.log_softmax(x, dim=-1)\n",
        "\n",
        "       return x"
      ],
      "metadata": {
        "id": "-3DTjCIhSer5"
      },
      "execution_count": null,
      "outputs": []
    },
    {
      "cell_type": "markdown",
      "source": [
        "## STEP 4. Learning"
      ],
      "metadata": {
        "id": "Qa9kBj02zz7m"
      }
    },
    {
      "cell_type": "markdown",
      "source": [
        "Step 4-1. Setting"
      ],
      "metadata": {
        "id": "cg8ZCYcJ0JIz"
      }
    },
    {
      "cell_type": "code",
      "source": [
        "import tqdm\n",
        "from torch.optim.adam import Adam\n",
        "\n",
        "device = \"cuda\" if torch.cuda.is_available() else \"cpu\"\n",
        "model = CRNN(output_size=len(dataset.BOW)).to(device)\n",
        "optim = Adam(model.parameters(), lr=0.0001)"
      ],
      "metadata": {
        "id": "B8clGgz65sxJ"
      },
      "execution_count": null,
      "outputs": []
    },
    {
      "cell_type": "markdown",
      "source": [
        "Step 4-2. Learning"
      ],
      "metadata": {
        "id": "lH9EvJSJz-AX"
      }
    },
    {
      "cell_type": "code",
      "source": [
        "for epoch in range(200):\n",
        "   iterator = tqdm.tqdm(loader)\n",
        "\n",
        "   # ❷ 정답에 사용할 label\n",
        "   for data, label in iterator:\n",
        "       optim.zero_grad()\n",
        "       preds = model(data.to(device))  # ❶ CRNN의 출력값\n",
        "\n",
        "       # CTC 손실 계산은 텐서의 모양까지 넣어줘야 함\n",
        "       # 정수형으로 간단하게 preds와 label의 모양을 만들어주자\n",
        "\n",
        "       # ❸ 시계열을 묶은 모양을 나타내는 변수\n",
        "       preds_size = torch.IntTensor([preds.size(0)] * 8).to(device)\n",
        "       # ➍ 정답의 모양을 나타내는 변수\n",
        "       target_len = torch.IntTensor([len(txt) for txt in label]).to(device)\n",
        "\n",
        "       # ➎ 손실 계산\n",
        "       loss = nn.CTCLoss(blank=0)(\n",
        "           preds, label.to(device), preds_size, target_len)\n",
        "\n",
        "       loss.backward()   # ➏ 역전파\n",
        "       optim.step()\n",
        "\n",
        "       iterator.set_description(f\"epoch{epoch+1} loss:{loss.item()}\")\n",
        "\n",
        "torch.save(model.state_dict(), \"CRNN.pth\")"
      ],
      "metadata": {
        "id": "krz6kIYz52wm"
      },
      "execution_count": null,
      "outputs": []
    },
    {
      "cell_type": "markdown",
      "source": [
        "## STEP 5. Evaluation"
      ],
      "metadata": {
        "id": "sdk0NFRA085c"
      }
    },
    {
      "cell_type": "code",
      "source": [
        "model.load_state_dict(torch.load(\"CRNN.pth\", map_location=device))\n",
        "\n",
        "with torch.no_grad():\n",
        "\n",
        "   testset = Captcha(train=False)\n",
        "   test_img, label = testset[0]\n",
        "   input_tensor = torch.unsqueeze(torch.tensor(test_img), dim=0)\n",
        "   input_tensor = input_tensor.permute(0, 3, 1, 2).to(device)\n",
        "\n",
        "   # 가장 높은 확률을 갖는 글자를 추출\n",
        "   pred = torch.argmax(model(input_tensor), dim=-1)\n",
        "\n",
        "   # ➊ 글자 간의 중복을 제거\n",
        "   prev_letter = pred[0].item()\n",
        "   pred_word = \"\"\n",
        "   for letter in pred:\n",
        "       if letter.item() != 0 and letter.item() != prev_letter:\n",
        "           pred_word += list(testset.BOW.keys())[letter.item()]\n",
        "       prev_letter = letter.item()\n",
        "\n",
        "   plt.imshow(test_img)\n",
        "   plt.title(\"prediction: \"+pred_word)\n",
        "   plt.show()"
      ],
      "metadata": {
        "id": "6t5jawBx8ibI"
      },
      "execution_count": null,
      "outputs": []
    }
  ]
}