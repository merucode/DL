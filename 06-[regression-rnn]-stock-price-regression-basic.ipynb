{
  "nbformat": 4,
  "nbformat_minor": 0,
  "metadata": {
    "colab": {
      "private_outputs": true,
      "provenance": [],
      "gpuType": "T4",
      "include_colab_link": true
    },
    "kernelspec": {
      "name": "python3",
      "display_name": "Python 3"
    },
    "language_info": {
      "name": "python"
    },
    "accelerator": "GPU"
  },
  "cells": [
    {
      "cell_type": "markdown",
      "metadata": {
        "id": "view-in-github",
        "colab_type": "text"
      },
      "source": [
        "<a href=\"https://colab.research.google.com/github/merucode/DL/blob/01-colab-study_must_have_pytorch/06-%5Bregression-rnn%5D-stock-price-regression-basic.ipynb\" target=\"_parent\"><img src=\"https://colab.research.google.com/assets/colab-badge.svg\" alt=\"Open In Colab\"/></a>"
      ]
    },
    {
      "cell_type": "markdown",
      "source": [
        "## STEP 0. Version check and Install Dependency"
      ],
      "metadata": {
        "id": "LxkMBWDW9T3P"
      }
    },
    {
      "cell_type": "markdown",
      "source": [
        "Step 0-1. Version Check"
      ],
      "metadata": {
        "id": "0Fg2WcTOqf5A"
      }
    },
    {
      "cell_type": "code",
      "source": [
        "import sys\n",
        "import torch\n",
        "print(f\"Python version:{sys.version}\")                  # python\n",
        "print(\"Torch version:{}\".format(torch.__version__))     # torch\n",
        "print(\"cuda version: {}\".format(torch.version.cuda))    # cuda\n",
        "print(\"cudnn version:{}\".format(torch.backends.cudnn.version()))    # cudnn"
      ],
      "metadata": {
        "id": "pvZ7Lm3Apv1B"
      },
      "execution_count": null,
      "outputs": []
    },
    {
      "cell_type": "markdown",
      "source": [
        "Step 0-2. Install Dependency"
      ],
      "metadata": {
        "id": "cNpk3WdHys1f"
      }
    },
    {
      "cell_type": "code",
      "source": [
        "!pip install pykrx"
      ],
      "metadata": {
        "id": "dzNGr8OZhRx0"
      },
      "execution_count": null,
      "outputs": []
    },
    {
      "cell_type": "markdown",
      "source": [
        "## STEP 1. Check Data"
      ],
      "metadata": {
        "id": "TquybxQaqfE5"
      }
    },
    {
      "cell_type": "markdown",
      "source": [
        "Step 1-1. Load data"
      ],
      "metadata": {
        "id": "OiEgwO4nzBQ4"
      }
    },
    {
      "cell_type": "code",
      "source": [
        "import pandas as pd\n",
        "from pykrx import stock\n",
        "\n",
        "df = stock.get_market_ohlcv(\"20200720\", \"20230716\", \"005930\") # 삼성전자 ohclv 불러오기\n",
        "df.head()"
      ],
      "metadata": {
        "id": "O_1DAWvLxNST"
      },
      "execution_count": null,
      "outputs": []
    },
    {
      "cell_type": "markdown",
      "source": [
        "Step 1-2. Check data type"
      ],
      "metadata": {
        "id": "yLz34AIjzFI_"
      }
    },
    {
      "cell_type": "code",
      "source": [
        "import matplotlib.pyplot as plt\n",
        "\n",
        "data_used = df.iloc[:, 0:3]\n",
        "data_used.columns = ['Open', 'High', 'Low']\n",
        "data_used['Close'] = df['종가']\n",
        "hist = data_used.hist()\n",
        "plt.show()"
      ],
      "metadata": {
        "id": "BIwItmZr48ck"
      },
      "execution_count": null,
      "outputs": []
    },
    {
      "cell_type": "markdown",
      "source": [
        "## STEP 2. Dataset"
      ],
      "metadata": {
        "id": "dHoQK0Vw5UWP"
      }
    },
    {
      "cell_type": "markdown",
      "source": [
        "Step 2-1. Custom Dataset"
      ],
      "metadata": {
        "id": "93-FySgzkqpm"
      }
    },
    {
      "cell_type": "code",
      "source": [
        "import numpy as np\n",
        "\n",
        "from pykrx import stock\n",
        "\n",
        "from torch.utils.data.dataset import Dataset\n",
        "\n",
        "class Samsung(Dataset):  # ❶ 클래스 선언\n",
        "    def __init__(self):\n",
        "        self.df = df = stock.get_market_ohlcv(\"20200720\", \"20230716\", \"005930\")   # 삼성전자 ohclv 불러오기\n",
        "\n",
        "        # 입력 데이터 정규화\n",
        "        self.data = self.df.iloc[:, 0:3].values   # ❸ 종가를 제외한 데이터\n",
        "        self.data = self.data / np.max(self.data)  # ➍ 0과 1 사이로 정규화\n",
        "\n",
        "        # ➎ 종가 데이터 정규화\n",
        "        self.label = self.df[\"종가\"].values\n",
        "        self.label = self.label / np.max(self.label)\n",
        "\n",
        "    # 사용 가능한 배치 개수 반환\n",
        "    def __len__(self):\n",
        "        return len(self.data) - 30 # ❶ 사용 가능한 배치 개수\n",
        "        # 이론적으로 N-L+1이나 마지막 종가는 정답으로 사용하기 때문에 N-L\n",
        "\n",
        "    # 1개의 배치 아이템\n",
        "    def __getitem__(self, i):\n",
        "        data = self.data[i:i+30] # ❶ 입력 데이터 30일치 읽기\n",
        "        label = self.label[i+30] # ❷ 종가 데이터 30일치 읽기\n",
        "\n",
        "        return data, label"
      ],
      "metadata": {
        "id": "B4jMESbH5T7X"
      },
      "execution_count": null,
      "outputs": []
    },
    {
      "cell_type": "markdown",
      "source": [
        "Step 2-2. DataLoader"
      ],
      "metadata": {
        "id": "xTnqszkekpd2"
      }
    },
    {
      "cell_type": "code",
      "source": [
        "from torch.utils.data.dataloader import DataLoader\n",
        "\n",
        "dataset = Samsung()  # 데이터셋의 정의\n",
        "loader = DataLoader(dataset, batch_size=32)  # 배치 크기를 32로 설정"
      ],
      "metadata": {
        "id": "N3Pwu4xEkuwa"
      },
      "execution_count": null,
      "outputs": []
    },
    {
      "cell_type": "markdown",
      "source": [
        "## STEP 3. Module"
      ],
      "metadata": {
        "id": "UPv6ybM8zJYk"
      }
    },
    {
      "cell_type": "code",
      "source": [
        "import torch\n",
        "import torch.nn as nn\n",
        "\n",
        "class RNN(nn.Module):\n",
        "   def __init__(self):\n",
        "       super(RNN, self).__init__()\n",
        "\n",
        "       self.rnn = nn.RNN(input_size=3, hidden_size=8, num_layers=5,\n",
        "                         batch_first=True)  # ❶ RNN층의 정의\n",
        "\n",
        "       # ❷ 주가를 예측하는 MLP층 정의\n",
        "       self.fc1 = nn.Linear(in_features=240, out_features=64)\n",
        "       self.fc2 = nn.Linear(in_features=64, out_features=1)\n",
        "\n",
        "       self.relu = nn.ReLU() # 활성화 함수 정의\n",
        "\n",
        "   def forward(self, x, h0):\n",
        "       x, hn = self.rnn(x, h0)  # ❶ RNN층의 출력\n",
        "\n",
        "       # ❷ MLP층의 입력으로 사용될 수 있도록 모양 변경\n",
        "       x = torch.reshape(x, (x.shape[0], -1))\n",
        "\n",
        "       # MLP 층을 이용해 종가를 예측\n",
        "       x = self.fc1(x)\n",
        "       x = self.relu(x)\n",
        "       x = self.fc2(x)\n",
        "\n",
        "       # 예측한 종가를 1차원 벡터로 표현\n",
        "       x = torch.flatten(x)\n",
        "\n",
        "       return x"
      ],
      "metadata": {
        "id": "QQnNmDIS5iyx"
      },
      "execution_count": null,
      "outputs": []
    },
    {
      "cell_type": "markdown",
      "source": [
        "## STEP 4. Learning"
      ],
      "metadata": {
        "id": "Qa9kBj02zz7m"
      }
    },
    {
      "cell_type": "markdown",
      "source": [
        "Step 4-1. Setting"
      ],
      "metadata": {
        "id": "cg8ZCYcJ0JIz"
      }
    },
    {
      "cell_type": "code",
      "source": [
        "import tqdm\n",
        "\n",
        "from torch.optim.adam import Adam\n",
        "\n",
        "device = \"cuda\" if torch.cuda.is_available() else \"cpu\" # # 학습을 진행할 프로세서 설정\n",
        "\n",
        "model = RNN().to(device) # 모델의 정의\n",
        "\n",
        "lr = 1e-4 # 학습률 정의\n",
        "\n",
        "optim = Adam(params=model.parameters(), lr=lr) # 사용할 최적화를 설정"
      ],
      "metadata": {
        "id": "B8clGgz65sxJ"
      },
      "execution_count": null,
      "outputs": []
    },
    {
      "cell_type": "markdown",
      "source": [
        "Step 4-2. Learning"
      ],
      "metadata": {
        "id": "lH9EvJSJz-AX"
      }
    },
    {
      "cell_type": "code",
      "source": [
        "for epoch in range(200):\n",
        "   iterator = tqdm.tqdm(loader)\n",
        "   for data, label in iterator:\n",
        "       optim.zero_grad()\n",
        "\n",
        "       # ❶ 초기 은닉 상태(shape: 은닉층 개수, 배치 크기, 출력 차원)\n",
        "       h0 = torch.zeros(5, data.shape[0], 8).to(device)\n",
        "\n",
        "       # ❷ 모델의 예측값\n",
        "       pred = model(data.type(torch.FloatTensor).to(device), h0)\n",
        "\n",
        "       # ❸ 손실의 계산\n",
        "       loss = nn.MSELoss()(pred, label.type(torch.FloatTensor).to(device))\n",
        "       loss.backward()  # 오차 역전파\n",
        "       optim.step()  # 최적화 진행\n",
        "\n",
        "       iterator.set_description(f\"epoch{epoch} loss:{loss.item()}\")\n",
        "\n",
        "torch.save(model.state_dict(), \"./rnn.pth\")  # 모델 저장"
      ],
      "metadata": {
        "id": "krz6kIYz52wm"
      },
      "execution_count": null,
      "outputs": []
    },
    {
      "cell_type": "markdown",
      "source": [
        "## STEP 5. Evaluation"
      ],
      "metadata": {
        "id": "sdk0NFRA085c"
      }
    },
    {
      "cell_type": "markdown",
      "source": [
        "Step 5-1. Evaluation"
      ],
      "metadata": {
        "id": "v5jKYiIcmsfe"
      }
    },
    {
      "cell_type": "code",
      "source": [
        "import matplotlib.pyplot as plt\n",
        "\n",
        "loader = DataLoader(dataset, batch_size=1)  # 예측값을 위한 데이터 로더\n",
        "\n",
        "preds = []  # 예측값들을 저장하는 리스트\n",
        "total_loss = 0\n",
        "\n",
        "with torch.no_grad():\n",
        "   # 모델의 가중치 불러오기\n",
        "   model.load_state_dict(torch.load(\"rnn.pth\", map_location=device))\n",
        "\n",
        "   for data, label in loader:\n",
        "       h0 = torch.zeros(5, data.shape[0], 8).to(device)  # ➊초기 은닉상태 정의\n",
        "\n",
        "       # 모델의 예측값 출력\n",
        "       pred = model(data.type(torch.FloatTensor).to(device), h0)\n",
        "       preds.append(pred.item())  # ➋예측값을 리스트에 추가\n",
        "       loss = nn.MSELoss()(pred, label.type(torch.FloatTensor).to(device))  # 손실계산\n",
        "       total_loss += loss/len(loader)  # ➌손실의 평균치 계산\n",
        "\n",
        "total_loss.item()"
      ],
      "metadata": {
        "id": "6t5jawBx8ibI"
      },
      "execution_count": null,
      "outputs": []
    },
    {
      "cell_type": "markdown",
      "source": [
        "Step 5-2. Plot"
      ],
      "metadata": {
        "id": "Vb1nsVI2mqo_"
      }
    },
    {
      "cell_type": "code",
      "source": [
        "plt.plot(preds, label=\"prediction\")\n",
        "plt.plot(dataset.label[30:], label=\"actual\")\n",
        "plt.legend()\n",
        "plt.show()"
      ],
      "metadata": {
        "id": "jK2756vFm06n"
      },
      "execution_count": null,
      "outputs": []
    }
  ]
}