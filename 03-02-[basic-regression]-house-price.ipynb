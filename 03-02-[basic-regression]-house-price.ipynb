{
  "cells": [
    {
      "cell_type": "markdown",
      "metadata": {
        "colab_type": "text",
        "id": "view-in-github"
      },
      "source": [
        "<a href=\"https://colab.research.google.com/github/merucode/DL/blob/01-colab-study_must_have_pytorch/03-02_basic_regression_house_price.ipynb\" target=\"_parent\"><img src=\"https://colab.research.google.com/assets/colab-badge.svg\" alt=\"Open In Colab\"/></a>"
      ]
    },
    {
      "cell_type": "markdown",
      "metadata": {
        "id": "0Fg2WcTOqf5A"
      },
      "source": [
        "### Version Check"
      ]
    },
    {
      "cell_type": "code",
      "execution_count": null,
      "metadata": {
        "id": "pvZ7Lm3Apv1B"
      },
      "outputs": [],
      "source": [
        "import sys\n",
        "import torch\n",
        "print(f\"Python version:{sys.version}\")                  # python\n",
        "print(\"Torch version:{}\".format(torch.__version__))     # torch\n",
        "print(\"cuda version: {}\".format(torch.version.cuda))    # cuda\n",
        "print(\"cudnn version:{}\".format(torch.backends.cudnn.version()))    # cudnn"
      ]
    },
    {
      "cell_type": "markdown",
      "metadata": {
        "id": "cNpk3WdHys1f"
      },
      "source": [
        "### Install Dependency"
      ]
    },
    {
      "cell_type": "code",
      "execution_count": null,
      "metadata": {
        "id": "1EHcHlwyx4ye"
      },
      "outputs": [],
      "source": [
        "!pip install scikit-learn==1.0.2"
      ]
    },
    {
      "cell_type": "markdown",
      "metadata": {
        "id": "TquybxQaqfE5"
      },
      "source": [
        "# STEP 1. Dataset"
      ]
    },
    {
      "cell_type": "markdown",
      "metadata": {
        "id": "OiEgwO4nzBQ4"
      },
      "source": [
        "Step 1-1. Load data"
      ]
    },
    {
      "cell_type": "code",
      "execution_count": null,
      "metadata": {
        "id": "O_1DAWvLxNST"
      },
      "outputs": [],
      "source": [
        "from sklearn.datasets import load_boston\n",
        "import pandas as pd\n",
        "\n",
        "# 경고 무시\n",
        "import warnings\n",
        "warnings.filterwarnings('ignore')\n",
        "\n",
        "dataset = load_boston() # 데이터셋을 불러옴\n",
        "print(dataset.keys())"
      ]
    },
    {
      "cell_type": "markdown",
      "metadata": {
        "id": "yLz34AIjzFI_"
      },
      "source": [
        "Step 1-2. Check data type"
      ]
    },
    {
      "cell_type": "code",
      "execution_count": null,
      "metadata": {
        "id": "L9_2N6xFxNm_"
      },
      "outputs": [],
      "source": [
        "dataFrame = pd.DataFrame(dataset[\"data\"]) # ❶ 데이터셋의 데이터 불러오기\n",
        "dataFrame.columns = dataset[\"feature_names\"] # ❷ 특징의 이름 불러오기\n",
        "dataFrame[\"target\"] = dataset[\"target\"] # ❸ 데이터 프레임에 정답을 추가\n",
        "\n",
        "print(dataFrame.head()) # ➍ 데이터프레임을 요약해서 출력"
      ]
    },
    {
      "cell_type": "markdown",
      "metadata": {
        "id": "UPv6ybM8zJYk"
      },
      "source": [
        "## STEP 2. Module"
      ]
    },
    {
      "cell_type": "code",
      "execution_count": null,
      "metadata": {
        "id": "qWfyBo-3ziEH"
      },
      "outputs": [],
      "source": [
        "import torch\n",
        "import torch.nn as nn\n",
        "\n",
        "# ❶ 모델 정의\n",
        "model = nn.Sequential(\n",
        "   nn.Linear(13, 100),\n",
        "   nn.ReLU(),\n",
        "   nn.Linear(100, 1)\n",
        ")"
      ]
    },
    {
      "cell_type": "markdown",
      "metadata": {
        "id": "Qa9kBj02zz7m"
      },
      "source": [
        "## STEP 3. Learning"
      ]
    },
    {
      "cell_type": "markdown",
      "metadata": {
        "id": "cg8ZCYcJ0JIz"
      },
      "source": [
        "Step 3-1. Setting parameters"
      ]
    },
    {
      "cell_type": "code",
      "execution_count": null,
      "metadata": {
        "id": "3LNP4JdOz0Yn"
      },
      "outputs": [],
      "source": [
        "from torch.optim.adam import Adam\n",
        "\n",
        "X = dataFrame.iloc[:, :13].values # ❷ 정답을 제외한 특징을 X에 입력\n",
        "Y = dataFrame[\"target\"].values    # 데이터프레임의 target의 값을 추출\n",
        "\n",
        "batch_size = 100\n",
        "learning_rate = 0.001\n",
        "\n",
        "# ❸ 가중치를 수정하기 위한 최적화 정의\n",
        "optim = Adam(model.parameters(), lr=learning_rate)"
      ]
    },
    {
      "cell_type": "markdown",
      "metadata": {
        "id": "lH9EvJSJz-AX"
      },
      "source": [
        "Step 3-2. Learning"
      ]
    },
    {
      "cell_type": "code",
      "execution_count": null,
      "metadata": {
        "id": "W67HkvXDz-VU"
      },
      "outputs": [],
      "source": [
        "# 에포크 반복\n",
        "for epoch in range(200):\n",
        "\n",
        "   # 배치 반복\n",
        "   for i in range(len(X)//batch_size):\n",
        "       start = i*batch_size      # ➍ 배치 크기에 맞게 인덱스를 지정\n",
        "       end = start + batch_size\n",
        "\n",
        "       # 파이토치 실수형 텐서로 변환\n",
        "       x = torch.FloatTensor(X[start:end])\n",
        "       y = torch.FloatTensor(Y[start:end])\n",
        "\n",
        "       optim.zero_grad() # ❺ 가중치의 기울기를 0으로 초기화\n",
        "       preds = model(x)  # ❻ 모델의 예측값 계산\n",
        "       loss = nn.MSELoss()(preds, y) # ❼ MSE 손실 계산\n",
        "       loss.backward()   # 역전파\n",
        "       optim.step()      # 가중치 업데이트\n",
        "\n",
        "   if epoch % 20 == 0:\n",
        "       print(f\"epoch{epoch} loss:{loss.item()}\")"
      ]
    },
    {
      "cell_type": "markdown",
      "metadata": {
        "id": "sdk0NFRA085c"
      },
      "source": [
        "## STEP 4. Evaluation"
      ]
    },
    {
      "cell_type": "code",
      "execution_count": null,
      "metadata": {
        "id": "xW2ixNVi09w4"
      },
      "outputs": [],
      "source": [
        "prediction = model(torch.FloatTensor(X[0, :13]))\n",
        "real = Y[0]\n",
        "print(f\"prediction:{prediction.item()} real:{real}\")"
      ]
    }
  ],
  "metadata": {
    "accelerator": "GPU",
    "colab": {
      "gpuType": "T4",
      "include_colab_link": true,
      "private_outputs": true,
      "provenance": []
    },
    "kernelspec": {
      "display_name": "Python 3",
      "name": "python3"
    },
    "language_info": {
      "name": "python"
    }
  },
  "nbformat": 4,
  "nbformat_minor": 0
}
