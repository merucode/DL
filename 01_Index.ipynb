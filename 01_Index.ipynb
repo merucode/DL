{
  "cells": [
    {
      "cell_type": "markdown",
      "metadata": {
        "colab_type": "text",
        "id": "view-in-github"
      },
      "source": [
        "<a href=\"https://colab.research.google.com/github/merucode/DL/blob/01-colab-study_must_have_pytorch/01_Index.ipynb\" target=\"_parent\"><img src=\"https://colab.research.google.com/assets/colab-badge.svg\" alt=\"Open In Colab\"/></a>"
      ]
    },
    {
      "cell_type": "markdown",
      "metadata": {
        "id": "JznODQvZQtAh"
      },
      "source": [
        "# 《Must Have 텐초의 파이토치 딥러닝 특강》\n",
        "[데이터를 모아놓은 구글 드라이브 링크](https://drive.google.com/drive/u/0/folders/1_XuoiGdAoueqwYcaJtt5NhJEFGHJKtvG)\n",
        "\n",
        "## 1단계. 딥러닝 입문\n",
        "### 1장. 딥러닝 한눈에 알아보기\n",
        "[코랩 노트북 위치](https://colab.research.google.com/drive/1eseMNGp-0cWpAnhQUdFWhS31E75Sas_T)\n",
        "- 머신러닝과 딥러닝\n",
        "- 지도 학습, 비지도 학습, 강화 학습\n",
        "- 왜 딥러닝에 파이토치인가?\n",
        "- 파이토치 코딩 권고 스타일\n",
        "- 딥러닝 문제 해결 프로세스\n",
        "- 딥러닝 문제 해결 체크리스트\n",
        "- 딥러닝에 필요한 최소한의 통계 개념\n",
        "- 직관적 분석에 유용한 시각화\n",
        "\n",
        "### 2장. 인공 신경망 ANN 이해하기\n",
        "- 퍼셉트론의 동작\n",
        "- 다층 신경망의 동작\n",
        "- 손실 함수란\n",
        "- 경사 하강법과 오차 역전파\n",
        "- 기울기 소실 문제\n",
        "- 신경망 성능 평가하기\n",
        "\n",
        "### 3장. 간단한 신경망 만들기\n",
        "- [사인 함수 예측하기](https://colab.research.google.com/drive/1cu7iaM0Q6I3hIl6zcWtX7qAoT5cvlKw5)\n",
        "- [보스턴 집값 예측하기 : 회귀 분석](https://colab.research.google.com/drive/14oW7FqSp0A7TuZkAf0n7flhSUXzaupok)\n",
        "- [손글씨 분류하기 : 다중분류](https://colab.research.google.com/drive/14Sfzm1idy8_EbS7DwzqzR7Dkk4TEKTVh)\n",
        "\n",
        "## 2단계. 입문용 신경망 3총사 CNN, ResNet, RNN\n",
        "### 4장. < 프로젝트> 사진 분류하기 : CNN과 VGG\n",
        "- [사진 분류하기 : CNN과 VGG](https://colab.research.google.com/drive/1dtxN93C9HQPUWU6kV-St4bRlUCVtPIYo)\n",
        "- [전이 학습 모델 VGG로 분류하기](https://colab.research.google.com/drive/1jmv1QhTPcQVYyw-Qo5UMRSBwSqESCM0C)\n",
        "\n",
        "### 5장. <프로젝트> 유행 따라가기 : ResNet 만들기\n",
        "[노트북 위치](https://colab.research.google.com/drive/1uNnxADTeRuhQr11L1QprTLZgXwB7XBHi)\n",
        "\n",
        "### 6장. 넷플릭스 주가 예측하기 : RNN으로 첫 시계열 학습\n",
        "[노트북 위치](https://colab.research.google.com/drive/1vZvDyrkOK6qM7nKn3jjv0McuTyOnTrr_)  \n",
        "[데이터 다운로드 링크](https://www.kaggle.com/c/netflix-stock-prediction/data)\n",
        "\n",
        "## 3단계. 딥러닝으로 이미지 처리하기\n",
        "### 7장. <프로젝트> 이미지 세그멘테이션 : U-Net\n",
        "[노트북 위치](https://colab.research.google.com/drive/17UOffrovInl_iYDYa8NLybwl4ubxPR40)  \n",
        "[데이터 다운로드 링크](https://www.robots.ox.ac.uk/~vgg/data/pets)\n",
        "\n",
        "### 8장. <프로젝트> 이미지 노이즈 제거 : 오토인코더\n",
        "[노트북 위치](https://colab.research.google.com/drive/1jBQohA3pIm8KpB5tJpFvpeATMsX0Q_6R)  \n",
        "\n",
        "### 9장. <프로젝트> 자동 채색 : Let there be color 모델\n",
        "[노트북 위치](https://colab.research.google.com/drive/1W4BBeD6Gdpx4TkXbGjqVB95BX8XgjJUJ)  \n",
        "[데이터 다운로드 링크](https://www.kaggle.com/adityajn105/flickr8k?select=Images)\n",
        "\n",
        "## 4단계. 딥러닝으로 텍스트 처리하기\n",
        "### 10장. <프로젝트> 글쓰는 인공지능 : LSTM 텍스트 생성\n",
        "[노트북 위치](https://colab.research.google.com/drive/1k8Nk9IWm8ngNEc2VMTDDpdXyJ4X1oTtb)  \n",
        "[데이터 다운로드 링크](https://www.kaggle.com/aashita/nyt-comments)\n",
        "\n",
        "### 11장. <프로젝트> 직접 만드는 번역기 : 어텐션 기계 번역\n",
        "[노트북 위치](https://colab.research.google.com/drive/1JiFjYV6BM6MsLlV6wRNnRHAZbr4x-0YB)  \n",
        "[데이터 다운로드 링크](http://www.manythings.org/anki)\n",
        "\n",
        "### 12장. <프로젝트> 캡챠 텍스트 인식 : CRNN+GRU\n",
        "[노트북 위치](https://colab.research.google.com/drive/1Inj0hlyNiyEmIPElpCmMWiJsB1CRGR3a)  \n",
        "[데이터 다운로드 링크](https://www.kaggle.com/fournierp/captcha-version-2-images)\n",
        "\n",
        "## 5단계 : GAN으로 생성 모델 만들기\n",
        "### 13장. <프로젝트> 사람 얼굴을 생성하는 GAN\n",
        "[노트북 위치](https://colab.research.google.com/drive/1BhUBpxZGz0mkBLmotExlAcFKqarpCuQy)  \n",
        "[데이터 다운로드 링크](https://mmlab.ie.cuhk.edu.hk/projects/CelebA.html)\n",
        "\n",
        "### 14장. <프로젝트> 화질을 개선하는 GAN\n",
        "[노트북 위치](https://colab.research.google.com/drive/1HullOZuCdjdSToi8XFIaV52g37kBgJza)  \n",
        "[데이터 다운로드 링크](https://mmlab.ie.cuhk.edu.hk/projects/CelebA.html)\n",
        "\n",
        "### 15장. <프로젝트> 데이터 없이 학습하는 GAN\n",
        "[노트북 위치](https://colab.research.google.com/drive/12iB7ceENLMF5r8CkdKgD9vVyV3Qm9uM-)  \n",
        "\n",
        "# 학습할 시간이 부족하신 분들께\n",
        "[미리 학습해둔 모델의 가중치 파일을 모아놓은 드라이브 링크입니다](https://drive.google.com/drive/u/0/folders/10V4syYFcK0a9cgKi1h7AX_sg25SBB3tK)"
      ]
    }
  ],
  "metadata": {
    "accelerator": "GPU",
    "colab": {
      "include_colab_link": true,
      "private_outputs": true,
      "provenance": []
    },
    "kernelspec": {
      "display_name": "Python 3",
      "name": "python3"
    },
    "language_info": {
      "name": "python"
    }
  },
  "nbformat": 4,
  "nbformat_minor": 0
}
