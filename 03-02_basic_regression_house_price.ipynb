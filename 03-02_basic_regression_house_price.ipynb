{
  "nbformat": 4,
  "nbformat_minor": 0,
  "metadata": {
    "colab": {
      "private_outputs": true,
      "provenance": [],
      "gpuType": "T4",
      "include_colab_link": true
    },
    "kernelspec": {
      "name": "python3",
      "display_name": "Python 3"
    },
    "language_info": {
      "name": "python"
    },
    "accelerator": "GPU"
  },
  "cells": [
    {
      "cell_type": "markdown",
      "metadata": {
        "id": "view-in-github",
        "colab_type": "text"
      },
      "source": [
        "<a href=\"https://colab.research.google.com/github/merucode/DL/blob/01-colab-study_must_have_pytorch/03-02_basic_regression_house_price.ipynb\" target=\"_parent\"><img src=\"https://colab.research.google.com/assets/colab-badge.svg\" alt=\"Open In Colab\"/></a>"
      ]
    },
    {
      "cell_type": "markdown",
      "source": [
        "### Version Check"
      ],
      "metadata": {
        "id": "0Fg2WcTOqf5A"
      }
    },
    {
      "cell_type": "code",
      "source": [
        "import sys\n",
        "import torch\n",
        "print(f\"Python version:{sys.version}\")                  # python\n",
        "print(\"Torch version:{}\".format(torch.__version__))     # torch\n",
        "print(\"cuda version: {}\".format(torch.version.cuda))    # cuda\n",
        "print(\"cudnn version:{}\".format(torch.backends.cudnn.version()))    # cudnn"
      ],
      "metadata": {
        "id": "pvZ7Lm3Apv1B"
      },
      "execution_count": null,
      "outputs": []
    },
    {
      "cell_type": "markdown",
      "source": [
        "### Install Dependency"
      ],
      "metadata": {
        "id": "cNpk3WdHys1f"
      }
    },
    {
      "cell_type": "code",
      "source": [
        "!pip install scikit-learn==1.0.2"
      ],
      "metadata": {
        "id": "1EHcHlwyx4ye"
      },
      "execution_count": null,
      "outputs": []
    },
    {
      "cell_type": "markdown",
      "source": [
        "# STEP 1. Dataset"
      ],
      "metadata": {
        "id": "TquybxQaqfE5"
      }
    },
    {
      "cell_type": "markdown",
      "source": [
        "Step 1-1. Load data"
      ],
      "metadata": {
        "id": "OiEgwO4nzBQ4"
      }
    },
    {
      "cell_type": "code",
      "source": [
        "from sklearn.datasets import load_boston\n",
        "import pandas as pd\n",
        "\n",
        "# 경고 무시\n",
        "import warnings\n",
        "warnings.filterwarnings('ignore')\n",
        "\n",
        "dataset = load_boston() # 데이터셋을 불러옴\n",
        "print(dataset.keys())"
      ],
      "metadata": {
        "id": "O_1DAWvLxNST"
      },
      "execution_count": null,
      "outputs": []
    },
    {
      "cell_type": "markdown",
      "source": [
        "Step 1-2. Check data type"
      ],
      "metadata": {
        "id": "yLz34AIjzFI_"
      }
    },
    {
      "cell_type": "code",
      "source": [
        "dataFrame = pd.DataFrame(dataset[\"data\"]) # ❶ 데이터셋의 데이터 불러오기\n",
        "dataFrame.columns = dataset[\"feature_names\"] # ❷ 특징의 이름 불러오기\n",
        "dataFrame[\"target\"] = dataset[\"target\"] # ❸ 데이터 프레임에 정답을 추가\n",
        "\n",
        "print(dataFrame.head()) # ➍ 데이터프레임을 요약해서 출력"
      ],
      "metadata": {
        "id": "L9_2N6xFxNm_"
      },
      "execution_count": null,
      "outputs": []
    },
    {
      "cell_type": "markdown",
      "source": [
        "## STEP 2. Module"
      ],
      "metadata": {
        "id": "UPv6ybM8zJYk"
      }
    },
    {
      "cell_type": "code",
      "source": [
        "import torch\n",
        "import torch.nn as nn\n",
        "\n",
        "# ❶ 모델 정의\n",
        "model = nn.Sequential(\n",
        "   nn.Linear(13, 100),\n",
        "   nn.ReLU(),\n",
        "   nn.Linear(100, 1)\n",
        ")"
      ],
      "metadata": {
        "id": "qWfyBo-3ziEH"
      },
      "execution_count": null,
      "outputs": []
    },
    {
      "cell_type": "markdown",
      "source": [
        "## STEP 3. Learning"
      ],
      "metadata": {
        "id": "Qa9kBj02zz7m"
      }
    },
    {
      "cell_type": "markdown",
      "source": [
        "Step 3-1. Setting parameters"
      ],
      "metadata": {
        "id": "cg8ZCYcJ0JIz"
      }
    },
    {
      "cell_type": "code",
      "source": [
        "from torch.optim.adam import Adam\n",
        "\n",
        "X = dataFrame.iloc[:, :13].values # ❷ 정답을 제외한 특징을 X에 입력\n",
        "Y = dataFrame[\"target\"].values    # 데이터프레임의 target의 값을 추출\n",
        "\n",
        "batch_size = 100\n",
        "learning_rate = 0.001\n",
        "\n",
        "# ❸ 가중치를 수정하기 위한 최적화 정의\n",
        "optim = Adam(model.parameters(), lr=learning_rate)"
      ],
      "metadata": {
        "id": "3LNP4JdOz0Yn"
      },
      "execution_count": null,
      "outputs": []
    },
    {
      "cell_type": "markdown",
      "source": [
        "Step 3-2. Learning"
      ],
      "metadata": {
        "id": "lH9EvJSJz-AX"
      }
    },
    {
      "cell_type": "code",
      "source": [
        "# 에포크 반복\n",
        "for epoch in range(200):\n",
        "\n",
        "   # 배치 반복\n",
        "   for i in range(len(X)//batch_size):\n",
        "       start = i*batch_size      # ➍ 배치 크기에 맞게 인덱스를 지정\n",
        "       end = start + batch_size\n",
        "\n",
        "       # 파이토치 실수형 텐서로 변환\n",
        "       x = torch.FloatTensor(X[start:end])\n",
        "       y = torch.FloatTensor(Y[start:end])\n",
        "\n",
        "       optim.zero_grad() # ❺ 가중치의 기울기를 0으로 초기화\n",
        "       preds = model(x)  # ❻ 모델의 예측값 계산\n",
        "       loss = nn.MSELoss()(preds, y) # ❼ MSE 손실 계산\n",
        "       loss.backward()   # 역전파\n",
        "       optim.step()      # 가중치 업데이트\n",
        "\n",
        "   if epoch % 20 == 0:\n",
        "       print(f\"epoch{epoch} loss:{loss.item()}\")"
      ],
      "metadata": {
        "id": "W67HkvXDz-VU"
      },
      "execution_count": null,
      "outputs": []
    },
    {
      "cell_type": "markdown",
      "source": [
        "## STEP 4. Evaluation"
      ],
      "metadata": {
        "id": "sdk0NFRA085c"
      }
    },
    {
      "cell_type": "code",
      "source": [
        "prediction = model(torch.FloatTensor(X[0, :13]))\n",
        "real = Y[0]\n",
        "print(f\"prediction:{prediction.item()} real:{real}\")"
      ],
      "metadata": {
        "id": "xW2ixNVi09w4"
      },
      "execution_count": null,
      "outputs": []
    },
    {
      "cell_type": "code",
      "source": [],
      "metadata": {
        "id": "Zg1pDEX_14LT"
      },
      "execution_count": null,
      "outputs": []
    },
    {
      "cell_type": "code",
      "source": [],
      "metadata": {
        "id": "Or_TIMZk2USp"
      },
      "execution_count": null,
      "outputs": []
    }
  ]
}