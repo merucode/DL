{
  "cells": [
    {
      "cell_type": "markdown",
      "metadata": {
        "id": "view-in-github",
        "colab_type": "text"
      },
      "source": [
        "<a href=\"https://colab.research.google.com/github/merucode/DL/blob/91-Colab-Kaggle-ML-Regression/01-01_%5BRegression-LR%5D_Bike-Sharing-Demand(basic).ipynb\" target=\"_parent\"><img src=\"https://colab.research.google.com/assets/colab-badge.svg\" alt=\"Open In Colab\"/></a>"
      ]
    },
    {
      "cell_type": "markdown",
      "metadata": {
        "id": "TZmla44eMnQC"
      },
      "source": [
        "# Imformation"
      ]
    },
    {
      "cell_type": "markdown",
      "metadata": {
        "id": "Q_8PiW9AMqQh"
      },
      "source": [
        "* Title : [Bike Sharing Demand](https://www.kaggle.com/competitions/bike-sharing-demand/overview)\n",
        "* Type : Regression\n",
        "* Evaluation : RMSLE\n",
        "* Model : Random Forest Regression\n",
        "* Python version: 3.10.6\n",
        "* Basic library version\n",
        "  * sklearn(scikit-learn==1.2.2)\n",
        "  * numpy(numpy==1.22.4)\n",
        "  * pandas(pandas==1.5.3)\n",
        "  * matplotlib(matplotlib==3.7.1)\n",
        "  * seaborn(seaborn==0.12.2)\n",
        "  * datetime, calendar\n",
        "* Addtional Library version\n",
        "* Considering Library version\n",
        "* Improvement"
      ]
    },
    {
      "cell_type": "markdown",
      "metadata": {
        "id": "LxkMBWDW9T3P"
      },
      "source": [
        "# STEP 0. Version check and Install Dependency"
      ]
    },
    {
      "cell_type": "markdown",
      "metadata": {
        "id": "LfgM8S72TidO"
      },
      "source": [
        "Step 0-1. Install Dependency"
      ]
    },
    {
      "cell_type": "markdown",
      "metadata": {
        "id": "0Fg2WcTOqf5A"
      },
      "source": [
        "Step 0-2. Version Check"
      ]
    },
    {
      "cell_type": "code",
      "execution_count": null,
      "metadata": {
        "collapsed": true,
        "id": "pvZ7Lm3Apv1B"
      },
      "outputs": [],
      "source": [
        "import sys\n",
        "import torch\n",
        "print(f\"Python version:{sys.version}\")                  # python\n",
        "print(\"Torch version:{}\".format(torch.__version__))     # torch\n",
        "print(\"cuda version: {}\".format(torch.version.cuda))    # cuda\n",
        "print(\"cudnn version:{}\".format(torch.backends.cudnn.version()))    # cudnn"
      ]
    },
    {
      "cell_type": "code",
      "execution_count": null,
      "metadata": {
        "collapsed": true,
        "id": "9v0TRhv5TudL"
      },
      "outputs": [],
      "source": [
        "!pip list"
      ]
    },
    {
      "cell_type": "markdown",
      "metadata": {
        "id": "FOF78xJ1T2lL"
      },
      "source": [
        "Step 0-3. Download Data"
      ]
    },
    {
      "cell_type": "code",
      "execution_count": null,
      "metadata": {
        "collapsed": true,
        "id": "9m2Gh7jjT5QL"
      },
      "outputs": [],
      "source": [
        "!export KAGGLE_USERNAME=merucode && export KAGGLE_KEY=4efadc2ddd497ca365f948c01bd11ead && kaggle competitions download -c bike-sharing-demand"
      ]
    },
    {
      "cell_type": "code",
      "execution_count": null,
      "metadata": {
        "collapsed": true,
        "id": "O8C7SzT7UlEu"
      },
      "outputs": [],
      "source": [
        "from zipfile import ZipFile\n",
        "\n",
        "data_path = '/content/'\n",
        "\n",
        "with ZipFile(data_path + 'bike-sharing-demand.zip') as zipper:\n",
        "  zipper.extractall()"
      ]
    },
    {
      "cell_type": "markdown",
      "metadata": {
        "id": "TquybxQaqfE5"
      },
      "source": [
        "# STEP 1. Check Data\n",
        "★ 분석결과\n",
        "* (FE) datetime: 연도, 월, 시간 정보 추출 후 제거\n",
        "* causal, registered: test 데이터셋에 없으므로 불필요"
      ]
    },
    {
      "cell_type": "markdown",
      "metadata": {
        "id": "OiEgwO4nzBQ4"
      },
      "source": [
        "Step 1-1. Check data"
      ]
    },
    {
      "cell_type": "code",
      "execution_count": null,
      "metadata": {
        "id": "O_1DAWvLxNST"
      },
      "outputs": [],
      "source": [
        "import numpy as np\n",
        "import pandas as pd\n",
        "\n",
        "# 데이터 경로\n",
        "data_path = '/content//'\n",
        "\n",
        "# 훈련, 검증, 테스트 데이터 경로 설정\n",
        "train = pd.read_csv(data_path + 'train.csv')\n",
        "test = pd.read_csv(data_path + 'test.csv')\n",
        "submission = pd.read_csv(data_path + 'sampleSubmission.csv')"
      ]
    },
    {
      "cell_type": "code",
      "source": [
        "train.shape, test.shape, submission.shape"
      ],
      "metadata": {
        "id": "JmFEi8QFxIVd"
      },
      "execution_count": null,
      "outputs": []
    },
    {
      "cell_type": "code",
      "source": [
        "train.head(3)"
      ],
      "metadata": {
        "collapsed": true,
        "id": "qlcKhOrayMWw"
      },
      "execution_count": null,
      "outputs": []
    },
    {
      "cell_type": "code",
      "source": [
        "test.head(3)"
      ],
      "metadata": {
        "id": "xg-Dczi1JqLB",
        "collapsed": true
      },
      "execution_count": null,
      "outputs": []
    },
    {
      "cell_type": "code",
      "source": [
        "submission.head(3)"
      ],
      "metadata": {
        "collapsed": true,
        "id": "Tmm54wizyYkO"
      },
      "execution_count": null,
      "outputs": []
    },
    {
      "cell_type": "code",
      "source": [
        "train.info()"
      ],
      "metadata": {
        "collapsed": true,
        "id": "mAJQjbwW0gCP"
      },
      "execution_count": null,
      "outputs": []
    },
    {
      "cell_type": "markdown",
      "source": [
        "Step 1-2. Features Info"
      ],
      "metadata": {
        "id": "myJ6kCpc0CAp"
      }
    },
    {
      "cell_type": "markdown",
      "source": [],
      "metadata": {
        "id": "aDgsJCsr0diM"
      }
    },
    {
      "cell_type": "markdown",
      "source": [
        "\n",
        "* (FE) datetime: 기록일시\n",
        "* season: 계절(1: 봄, 2: 여름, 3: 가을, 4: 겨울)\n",
        "* holiday: 공휴일 여부(0: 공휴일 아님, 1: 공휴일)\n",
        "* workingday: 근무일 여부\n",
        "* weather:날씨\n",
        "* temp: 실제 온도\n",
        "* atemp: 체감 온도\n",
        "* humidity :상대 습도\n",
        "* windspeed : 풍속\n",
        "* (X) casual : 등록x 사용자 수\n",
        "* (X) registered : 등록 사용자 수\n",
        "* (Traget) count: 자전거 대여 수량\n",
        "\n",
        "★ 분석결과\n",
        "* (FE) datetime: 연도, 월, 시간 정보 추출 후 제거\n",
        "* causal, registered: test 데이터셋에 없으므로 불필요\n"
      ],
      "metadata": {
        "id": "Ro83kbveysmp"
      }
    },
    {
      "cell_type": "markdown",
      "source": [
        "Step 1-3. Feature Engineering"
      ],
      "metadata": {
        "id": "gs0__czf1NiH"
      }
    },
    {
      "cell_type": "code",
      "source": [
        "# 날짜 연도 월 일 나누기\n",
        "print(train['datetime'][100].split()[0]) # 날짜\n",
        "print(train['datetime'][100].split()[0].split(\"-\")[0])  # 연도\n",
        "print(train['datetime'][100].split()[0].split(\"-\")[1])  # 월\n",
        "print(train['datetime'][100].split()[0].split(\"-\")[2])  # 일\n",
        "\n",
        "# 시간 시, 분, 초 나누기\n",
        "print(train['datetime'][100].split()[1]) # 시간\n",
        "print(train['datetime'][100].split()[1].split(\":\")[0]) # 시\n",
        "print(train['datetime'][100].split()[1].split(\":\")[1]) # 분\n",
        "print(train['datetime'][100].split()[1].split(\":\")[2]) # 초"
      ],
      "metadata": {
        "collapsed": true,
        "id": "9RVsVCvm1Nz1"
      },
      "execution_count": null,
      "outputs": []
    },
    {
      "cell_type": "code",
      "source": [
        "# 날짜 피처 생성\n",
        "train['date'] = train['datetime'].apply(lambda x: x.split()[0])  # 날짜 피처 생성\n",
        "\n",
        "# 연도, 월, 일, 시, 분, 초 피처 생성\n",
        "train['year'] = train['datetime'].apply(lambda x: x.split()[0].split('-')[0])\n",
        "train['month'] = train['datetime'].apply(lambda x: x.split()[0].split('-')[1])\n",
        "train['day'] = train['datetime'].apply(lambda x: x.split()[0].split('-')[2])\n",
        "train['hour'] = train['datetime'].apply(lambda x: x.split()[1].split(':')[0])\n",
        "train['minute'] = train['datetime'].apply(lambda x: x.split()[1].split(':')[1])\n",
        "train['second'] = train['datetime'].apply(lambda x: x.split()[1].split(':')[2])"
      ],
      "metadata": {
        "id": "Bgu0kxOY1R8B"
      },
      "execution_count": null,
      "outputs": []
    },
    {
      "cell_type": "code",
      "source": [
        "train.head(2)"
      ],
      "metadata": {
        "id": "uGl6lfDw37dw"
      },
      "execution_count": null,
      "outputs": []
    },
    {
      "cell_type": "code",
      "source": [
        "# 요일 피처 생성 설명\n",
        "from datetime import datetime\n",
        "import calendar\n",
        "\n",
        "print(train['date'][100]) # 날짜\n",
        "print(datetime.strptime(train['date'][100], '%Y-%m-%d'))  # datetime 타입 변경\n",
        "print(datetime.strptime(train['date'][100], '%Y-%m-%d').weekday())  # 정수로 요일 반환\n",
        "print(calendar.day_name[datetime.strptime(train['date'][100], '%Y-%m-%d').weekday()])  # 문자열로 요일 반환"
      ],
      "metadata": {
        "id": "eONOGssi2kwG"
      },
      "execution_count": null,
      "outputs": []
    },
    {
      "cell_type": "code",
      "source": [
        "# 요일 피처 생성\n",
        "train['weekday'] = train['date'].apply(\n",
        "    lambda dateString: calendar.day_name[datetime.strptime(train['date'][100], '%Y-%m-%d').weekday()])"
      ],
      "metadata": {
        "id": "IkXyo45C3k0p"
      },
      "execution_count": null,
      "outputs": []
    },
    {
      "cell_type": "code",
      "source": [
        "train.head(2)"
      ],
      "metadata": {
        "id": "lIaAEp5p36nA"
      },
      "execution_count": null,
      "outputs": []
    },
    {
      "cell_type": "code",
      "source": [
        "# season, weather 피처 mapping(의미 파악을 위한 문자열 변환)\n",
        "train['season'] = train['season'].map({1: 'Spring',\n",
        "                                       2: 'Summer',\n",
        "                                       3: 'Fall',\n",
        "                                       4: 'Winter'})\n",
        "train['weather'] = train['weather'].map({1: 'Clear',\n",
        "                                         2: 'Mist, Few clouds',\n",
        "                                         3: 'Light Snow, Rain, Thunderstorm',\n",
        "                                         4: 'Heavy Rain, Thunderstorm, Snow, Fog'})"
      ],
      "metadata": {
        "id": "yYM5x9pM4A39"
      },
      "execution_count": null,
      "outputs": []
    },
    {
      "cell_type": "code",
      "source": [
        "train.head(2)"
      ],
      "metadata": {
        "id": "Ca7rauIx4khP"
      },
      "execution_count": null,
      "outputs": []
    },
    {
      "cell_type": "markdown",
      "metadata": {
        "id": "yLz34AIjzFI_"
      },
      "source": [
        "# STEP 2. Data Visualize\n",
        "★ 분석결과\n",
        "* [Traget] count: 비대칭 분포로 학습 수행시 log 변환 수행(회귀모델 정규분포일수록 성능 좋음), 마지막에는 지수 변환하여 실제 타깃값 복원 필요\n",
        "* weather : weater==4 이상치 발생 → 이상치 제거\n",
        "* windspeed : 결측값 많음, count와 상관관계 없음 → 제거\n",
        "* day, minute, seconde : 분별력 없음 → 제거"
      ]
    },
    {
      "cell_type": "markdown",
      "source": [
        "STEP 2-1. Dis plot"
      ],
      "metadata": {
        "id": "pq5d4NNkANEH"
      }
    },
    {
      "cell_type": "code",
      "execution_count": null,
      "metadata": {
        "collapsed": true,
        "id": "A5ybi6s9V5-6"
      },
      "outputs": [],
      "source": [
        "import seaborn as sns\n",
        "import matplotlib as mpl\n",
        "import matplotlib.pyplot as plt\n",
        "%matplotlib inline"
      ]
    },
    {
      "cell_type": "code",
      "source": [
        "### DIS PLOT : 수치형 데이터 분포\n",
        "mpl.rc('font', size=15) # 폰트 크기를 15로 설정\n",
        "\n",
        "sns.displot(train['count']) # ★ 타깃값 count 비대칭 > log 변환 필요"
      ],
      "metadata": {
        "collapsed": true,
        "id": "8kVoRsDG5Mmq"
      },
      "execution_count": null,
      "outputs": []
    },
    {
      "cell_type": "code",
      "source": [
        " sns.displot(np.log(train['count']))"
      ],
      "metadata": {
        "collapsed": true,
        "id": "2QWqTYpV5MyH"
      },
      "execution_count": null,
      "outputs": []
    },
    {
      "cell_type": "markdown",
      "source": [
        "STEP 2-2. Bar Plot"
      ],
      "metadata": {
        "id": "0Ls0erA9APtz"
      }
    },
    {
      "cell_type": "code",
      "source": [
        "### BAR PLOT : 범주형 데이터에 따른 수치형 데이터 정보\n",
        "# m행 n열 Figure 준비\n",
        "mpl.rc('font', size=14)      # 폰트 크기 설정\n",
        "mpl.rc('axes', titlesize=15)  # 각 축 제목 크기 설정\n",
        "figure, axes = plt.subplots(nrows=3, ncols=2) # 3행 2열 Figure 생성\n",
        "plt.tight_layout()             # 그래프 사이 여백 확보\n",
        "figure.set_size_inches(10, 9) # 전체 Figure 크기를 10*9인치로 설정\n",
        "\n",
        "# 각 서브플롯 할당\n",
        "sns.barplot(x='year', y='count', data=train, ax=axes[0, 0])\n",
        "sns.barplot(x='month', y='count', data=train, ax=axes[0, 1])\n",
        "sns.barplot(x='day', y='count', data=train, ax=axes[1, 0])\n",
        "sns.barplot(x='hour', y='count', data=train, ax=axes[1, 1])\n",
        "sns.barplot(x='minute', y='count', data=train, ax=axes[2, 0])\n",
        "sns.barplot(x='second', y='count', data=train, ax=axes[2, 1])\n",
        "\n",
        "# 세부설정\n",
        "axes[0, 0].set(title='Rental amounts by year')\n",
        "axes[0, 1].set(title='Rental amounts by month')\n",
        "axes[1, 0].set(title='Rental amounts by day')     # ★ 분별력 없음 → 제거\n",
        "axes[1, 1].set(title='Rental amounts by hour')\n",
        "axes[2, 0].set(title='Rental amounts by minute')  # ★ 분별력 없음 → 제거\n",
        "axes[2, 1].set(title='Rental amounts by second')  # ★ 분별력 없음 → 제거\n",
        "\n",
        "# 1행 위치한 서브플롯들의 x축 라벨 90도 회전\n",
        "axes[1, 0].tick_params(axis='x', labelrotation=90)\n",
        "axes[1, 1].tick_params(axis='x', labelrotation=90)"
      ],
      "metadata": {
        "id": "i4p_78CU5M9S"
      },
      "execution_count": null,
      "outputs": []
    },
    {
      "cell_type": "markdown",
      "source": [
        "Step 2-3. Box Plot"
      ],
      "metadata": {
        "id": "8PpcuRdtATyD"
      }
    },
    {
      "cell_type": "code",
      "source": [
        "### BOX PLOT : 범주형 데이터에 따른 수치형 데이터 정보\n",
        "# m행 n열 Figure 준비\n",
        "figure, axes = plt.subplots(nrows=2, ncols=2) # 2행 2열 Figure 생성\n",
        "plt.tight_layout()             # 그래프 사이 여백 확보\n",
        "figure.set_size_inches(10, 10) # 전체 Figure 크기를 10*10인치로 설정\n",
        "\n",
        "# 각 서브플롯 할당\n",
        "sns.boxplot(x='season', y='count', data=train, ax=axes[0, 0])\n",
        "sns.boxplot(x='weather', y='count', data=train, ax=axes[0, 1])\n",
        "sns.boxplot(x='holiday', y='count', data=train, ax=axes[1, 0])\n",
        "sns.boxplot(x='workingday', y='count', data=train, ax=axes[1, 1])\n",
        "\n",
        "# 세부설정\n",
        "axes[0, 0].set(title='Box Plot On Count Across Season')\n",
        "axes[0, 1].set(title='Box Plot On Count Across Weather')\n",
        "axes[1, 0].set(title='Box Plot On Count Across Holiday')\n",
        "axes[1, 1].set(title='Box Plot On Count Across Working Day')\n",
        "\n",
        "# x축 라벨 겹침 해결\n",
        "axes[0, 1].tick_params(axis='x', labelrotation=10)"
      ],
      "metadata": {
        "collapsed": true,
        "id": "zOMoxG2A6Qev"
      },
      "execution_count": null,
      "outputs": []
    },
    {
      "cell_type": "markdown",
      "source": [
        "Step 2-4. Point Plot"
      ],
      "metadata": {
        "id": "13Uly2q3AW6_"
      }
    },
    {
      "cell_type": "code",
      "source": [
        "### POINT PLOT : 범주형 데이터에 따른 수치형 데이터 평군과 신뢰구간 표시\n",
        "# m행 n열 Figure 준비\n",
        "mpl.rc('font', size=11)\n",
        "figure, axes = plt.subplots(nrows=5) # 5행 1열 Figure 생성\n",
        "figure.set_size_inches(12, 18) # 전체 Figure 크기 설정\n",
        "\n",
        "# 각 서브플롯 할당\n",
        "sns.pointplot(x='hour', y='count', data=train, hue='workingday', ax=axes[0])\n",
        "sns.pointplot(x='hour', y='count', data=train, hue='holiday', ax=axes[1])\n",
        "sns.pointplot(x='hour', y='count', data=train, hue='weekday', ax=axes[2])\n",
        "sns.pointplot(x='hour', y='count', data=train, hue='season', ax=axes[3])\n",
        "sns.pointplot(x='hour', y='count', data=train, hue='weather', ax=axes[4])   # ★ weather==4 이상치 제거"
      ],
      "metadata": {
        "collapsed": true,
        "id": "KTk2fIgU6Qn6"
      },
      "execution_count": null,
      "outputs": []
    },
    {
      "cell_type": "markdown",
      "source": [
        "Step 2-5. Scatter Plot\n"
      ],
      "metadata": {
        "id": "QCgQX-jeAevt"
      }
    },
    {
      "cell_type": "code",
      "source": [
        "### SCATTER PLOT : 수치형 데이터 상관관계 파악\n",
        "# Figure 준비\n",
        "mpl.rc('font', size=15)\n",
        "figure, axes = plt.subplots(nrows=2, ncols=2) # Figure 생성\n",
        "plt.tight_layout()\n",
        "figure.set_size_inches(7, 6)       # 전체 Figure 크기 설정\n",
        "\n",
        "# 서브플롯 할당\n",
        "sns.regplot(x='temp', y='count', data=train, ax=axes[0, 0],\n",
        "            scatter_kws={'alpha': 0.2}, line_kws={'color': 'blue'})\n",
        "sns.regplot(x='atemp', y='count', data=train, ax=axes[0, 1],\n",
        "            scatter_kws={'alpha': 0.2}, line_kws={'color': 'blue'})\n",
        "sns.regplot(x='windspeed', y='count', data=train, ax=axes[1, 0],\n",
        "            scatter_kws={'alpha': 0.2}, line_kws={'color': 'blue'}) # ★ 결측값 많음 → windspeed 피처 삭제\n",
        "sns.regplot(x='humidity', y='count', data=train, ax=axes[1, 1],\n",
        "            scatter_kws={'alpha': 0.2}, line_kws={'color': 'blue'})"
      ],
      "metadata": {
        "collapsed": true,
        "id": "4Taq3Fry9ROQ"
      },
      "execution_count": null,
      "outputs": []
    },
    {
      "cell_type": "markdown",
      "source": [
        "Step 2-6. Heatmap"
      ],
      "metadata": {
        "id": "-uJPhdmCAjKv"
      }
    },
    {
      "cell_type": "code",
      "source": [
        "### Heatemap : 수치형 데이터 상관관계 파악\n",
        "train[['temp', 'atemp', 'humidity', 'windspeed', 'count']].corr() # 수치형 데이터 간 상관관계 메트릭스"
      ],
      "metadata": {
        "id": "n6x1lr8k-BEs"
      },
      "execution_count": null,
      "outputs": []
    },
    {
      "cell_type": "code",
      "source": [
        "corrMat = train[['temp', 'atemp', 'humidity', 'windspeed', 'count']].corr()\n",
        "fig, ax = plt.subplots()\n",
        "fig.set_size_inches(5, 5)\n",
        "sns.heatmap(corrMat, annot=True)  # 상관관계 히트맵 그리기\n",
        "ax.set(title='Heatmap of Numerical Data') # ★ windspeed는 count와 상관관계 희미"
      ],
      "metadata": {
        "id": "HV1f4xb69RYU"
      },
      "execution_count": null,
      "outputs": []
    },
    {
      "cell_type": "markdown",
      "source": [
        "Step 2-7. ★ 분석결과"
      ],
      "metadata": {
        "id": "XDDprCTBBxB2"
      }
    },
    {
      "cell_type": "markdown",
      "source": [
        "* [Traget] count: 비대칭 분포로 학습 수행시 log 변환 수행(회귀모델 정규분포일수록 성능 좋음), 마지막에는 지수 변환하여 실제 타깃값 복원 필요\n",
        "* weather : weater==4 이상치 발생 → 이상치 제거\n",
        "* windspeed : 결측값 많음, count와 상관관계 없음 → 제거\n",
        "* day, minute, seconde : 분별력 없음 → 제거"
      ],
      "metadata": {
        "id": "VQMjMy8M5pCE"
      }
    },
    {
      "cell_type": "markdown",
      "metadata": {
        "id": "PwqEIVGS1rtU"
      },
      "source": [
        "# STEP 3. Feature Engineering"
      ]
    },
    {
      "cell_type": "markdown",
      "source": [
        "Step 3-1. Load Data"
      ],
      "metadata": {
        "id": "l_HvIT43CKgZ"
      }
    },
    {
      "cell_type": "code",
      "source": [
        "import numpy as np\n",
        "import pandas as pd\n",
        "\n",
        "# 데이터 경로\n",
        "data_path = '/content//'\n",
        "\n",
        "# 훈련, 검증, 테스트 데이터 경로 설정\n",
        "train = pd.read_csv(data_path + 'train.csv')\n",
        "test = pd.read_csv(data_path + 'test.csv')\n",
        "submission = pd.read_csv(data_path + 'sampleSubmission.csv')"
      ],
      "metadata": {
        "id": "6HpCCR99CKrt"
      },
      "execution_count": null,
      "outputs": []
    },
    {
      "cell_type": "markdown",
      "source": [
        "Step 3-2. Remove Outlier"
      ],
      "metadata": {
        "id": "1wzcGm4LCTXF"
      }
    },
    {
      "cell_type": "code",
      "source": [
        "# 훈련 데이터에서 weather = 4 아닌 데이터만 추출\n",
        "train = train[train['weather'] != 4]"
      ],
      "metadata": {
        "id": "OjoCaXyfCTeB"
      },
      "execution_count": null,
      "outputs": []
    },
    {
      "cell_type": "markdown",
      "source": [
        "Step 3-3. Concat Data(Apply same feature engineering with train, test)"
      ],
      "metadata": {
        "id": "MJrEFkRoCTkF"
      }
    },
    {
      "cell_type": "code",
      "source": [
        "all_data = pd.concat([train, test], ignore_index=True)\n",
        "all_data.tail(3)"
      ],
      "metadata": {
        "id": "QiB_GwbkCT1F"
      },
      "execution_count": null,
      "outputs": []
    },
    {
      "cell_type": "markdown",
      "source": [
        "Step 3-4. Add Feature"
      ],
      "metadata": {
        "id": "IujIhpsmCUAN"
      }
    },
    {
      "cell_type": "code",
      "source": [
        "from datetime import datetime\n",
        "\n",
        "# 날짜 피처 생성(요일 생성을 위해서)\n",
        "all_data['date'] = all_data['datetime'].apply(lambda x: x.split()[0])\n",
        "# 연도 피처 생성\n",
        "all_data['year'] = all_data['datetime'].apply(lambda x: x.split()[0].split('-')[0])\n",
        "# 월 피처 생성\n",
        "all_data['month'] = all_data['datetime'].apply(lambda x: x.split()[0].split('-')[1])\n",
        "# 시 피처 생성\n",
        "all_data['hour'] = all_data['datetime'].apply(lambda x: x.split()[1].split(':')[0])\n",
        "# 요일 피처 생성\n",
        "all_data['weekday'] = all_data['date'].apply(lambda dateString : datetime.strptime(dateString, \"%Y-%m-%d\").weekday())"
      ],
      "metadata": {
        "id": "Hg6coBwSDQMV"
      },
      "execution_count": null,
      "outputs": []
    },
    {
      "cell_type": "code",
      "source": [
        "all_data.head(2)"
      ],
      "metadata": {
        "id": "M2xwaThjDQYx"
      },
      "execution_count": null,
      "outputs": []
    },
    {
      "cell_type": "markdown",
      "source": [
        "Step 3-5. Remove Feature"
      ],
      "metadata": {
        "id": "qr003XRSDQpV"
      }
    },
    {
      "cell_type": "code",
      "source": [
        "drop_features = ['casual', 'registered', 'datetime', 'date', 'windspeed', 'month']\n",
        "# season 피처가 month 대분류 성격이라 month 불필요\n",
        "\n",
        "all_data = all_data.drop(drop_features, axis=1)"
      ],
      "metadata": {
        "id": "WqrtA1VyEfUw"
      },
      "execution_count": null,
      "outputs": []
    },
    {
      "cell_type": "code",
      "source": [
        "all_data.tail(2)"
      ],
      "metadata": {
        "id": "_epJ7GekDQw0"
      },
      "execution_count": null,
      "outputs": []
    },
    {
      "cell_type": "markdown",
      "source": [
        "Step 3-6. Divide Data(train, test)"
      ],
      "metadata": {
        "id": "2jOT_t9EE6X6"
      }
    },
    {
      "cell_type": "code",
      "source": [
        "# 훈련 데이터와 테스트 데이터 나누기\n",
        "X_train = all_data[~pd.isnull(all_data['count'])] # count null 아니면 train\n",
        "X_test = all_data[pd.isnull(all_data['count'])]   # count null 이면 test\n",
        "\n",
        "# 타깃값 count 제거\n",
        "X_train = X_train.drop(['count'], axis=1)\n",
        "X_test = X_test.drop(['count'], axis=1)\n",
        "\n",
        "y = train['count'] # 타깃값\n",
        "\n",
        "X_train.shape, X_test.shape"
      ],
      "metadata": {
        "id": "81ISFus2E6jP"
      },
      "execution_count": null,
      "outputs": []
    },
    {
      "cell_type": "code",
      "source": [
        "X_train.head()"
      ],
      "metadata": {
        "id": "JLAKqYwMFfYw"
      },
      "execution_count": null,
      "outputs": []
    },
    {
      "cell_type": "markdown",
      "source": [
        "# STEP 4. Model"
      ],
      "metadata": {
        "id": "BDwpbveiFn07"
      }
    },
    {
      "cell_type": "code",
      "source": [
        "from sklearn.linear_model import LinearRegression\n",
        "\n",
        "linear_reg_model = LinearRegression()"
      ],
      "metadata": {
        "id": "rmWF-7pEFn_i"
      },
      "execution_count": null,
      "outputs": []
    },
    {
      "cell_type": "markdown",
      "source": [
        "# STEP 5. Learning"
      ],
      "metadata": {
        "id": "XPEeIrtQGJIc"
      }
    },
    {
      "cell_type": "markdown",
      "source": [
        "Step 5-1. Setting"
      ],
      "metadata": {
        "id": "5gB6dvLlGJS0"
      }
    },
    {
      "cell_type": "code",
      "source": [
        "# RMSLE\n",
        "import numpy as np\n",
        "\n",
        "def rmsle(y_true, y_pred, converExp=True):\n",
        "  # 지수 변환\n",
        "  if converExp:\n",
        "    y_true = np.exp(y_true)\n",
        "    y_pred = np.exp(y_pred)\n",
        "\n",
        "  # 로그 변화 후 결측값을 0으로 변환\n",
        "  log_true = np.nan_to_num(np.log(y_true+1))\n",
        "  log_pred = np.nan_to_num(np.log(y_pred+1))\n",
        "\n",
        "  # RMSLE 계산\n",
        "  output = np.sqrt(np.mean(log_true - log_pred)**2)\n",
        "  return output\n",
        "\n",
        "# 타깃값 로그 전환(분석 정리)\n",
        "log_y = np.log(y)"
      ],
      "metadata": {
        "id": "iaOEqUK4GJaI"
      },
      "execution_count": null,
      "outputs": []
    },
    {
      "cell_type": "markdown",
      "source": [
        "Step 5-2. Learning"
      ],
      "metadata": {
        "id": "uMmENV_FGPBw"
      }
    },
    {
      "cell_type": "code",
      "source": [
        "linear_reg_model.fit(X_train, log_y)  # 모델 훈련"
      ],
      "metadata": {
        "id": "2Z71NNIGGPKQ"
      },
      "execution_count": null,
      "outputs": []
    },
    {
      "cell_type": "markdown",
      "source": [
        "# STEP 6. Validation"
      ],
      "metadata": {
        "id": "ddhXsgTAGPas"
      }
    },
    {
      "cell_type": "code",
      "source": [
        "preds = linear_reg_model.predict(X_train) # 검증 데이터로 해야함 다음 장부터 제대로 구현"
      ],
      "metadata": {
        "id": "Ge7Ssxj4GPlI"
      },
      "execution_count": null,
      "outputs": []
    },
    {
      "cell_type": "code",
      "source": [
        "print(f\"선형 회귀 RMSLE 값: {rmsle(log_y, preds, True):.4f}\")"
      ],
      "metadata": {
        "id": "YQyneVrWHKrS"
      },
      "execution_count": null,
      "outputs": []
    },
    {
      "cell_type": "markdown",
      "metadata": {
        "id": "_TzxvoFCAZT7"
      },
      "source": [
        "# STEP 7. Prediction and Submission"
      ]
    },
    {
      "cell_type": "markdown",
      "source": [
        "Step 7-1. Prediction"
      ],
      "metadata": {
        "id": "Iwjg_6nsH2gg"
      }
    },
    {
      "cell_type": "code",
      "source": [
        "preds = linear_reg_model.predict(X_test) # 테스트 데이터로 예측"
      ],
      "metadata": {
        "id": "0Cs_Px6aH8h6"
      },
      "execution_count": null,
      "outputs": []
    },
    {
      "cell_type": "markdown",
      "metadata": {
        "id": "wrKX3dBvF5Ib"
      },
      "source": [
        "Step 7-5. Submission"
      ]
    },
    {
      "cell_type": "code",
      "execution_count": null,
      "metadata": {
        "id": "e7NJo_4fF6U-"
      },
      "outputs": [],
      "source": [
        "submission['count'] = np.exp(preds)   # 지수 변환\n",
        "submission.to_csv('submission.csv', index=False)                       # 제출 파일 생성"
      ]
    }
  ],
  "metadata": {
    "accelerator": "GPU",
    "colab": {
      "gpuType": "A100",
      "private_outputs": true,
      "provenance": [],
      "machine_shape": "hm",
      "include_colab_link": true
    },
    "kernelspec": {
      "display_name": "Python 3",
      "name": "python3"
    },
    "language_info": {
      "name": "python"
    }
  },
  "nbformat": 4,
  "nbformat_minor": 0
}