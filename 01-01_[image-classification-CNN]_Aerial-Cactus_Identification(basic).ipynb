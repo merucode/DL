{
  "nbformat": 4,
  "nbformat_minor": 0,
  "metadata": {
    "colab": {
      "private_outputs": true,
      "provenance": [],
      "gpuType": "T4",
      "include_colab_link": true
    },
    "kernelspec": {
      "name": "python3",
      "display_name": "Python 3"
    },
    "language_info": {
      "name": "python"
    },
    "accelerator": "GPU"
  },
  "cells": [
    {
      "cell_type": "markdown",
      "metadata": {
        "id": "view-in-github",
        "colab_type": "text"
      },
      "source": [
        "<a href=\"https://colab.research.google.com/github/merucode/DL/blob/81-colab-keggle_image/01-01_%5Bimage-classification-CNN%5D_Aerial-Cactus_Identification(basic).ipynb\" target=\"_parent\"><img src=\"https://colab.research.google.com/assets/colab-badge.svg\" alt=\"Open In Colab\"/></a>"
      ]
    },
    {
      "cell_type": "markdown",
      "source": [
        "# Imformation"
      ],
      "metadata": {
        "id": "TZmla44eMnQC"
      }
    },
    {
      "cell_type": "markdown",
      "source": [
        "* Title : [Aerial Cactus Identification](https://www.kaggle.com/c/aerial-cactus-identification)\n",
        "* Type : image binary classification\n",
        "* Evaluation : ROE ACU\n",
        "* Model : CNN\n",
        "* Python version: 3.10.6\n",
        "* Library version\n",
        "  * torch(torch==2.0.1+cu118)\n",
        "  * torchvision(torchvision==0.15.2+cu118)\n",
        "  * sklearn(scikit-learn==1.2.2)\n",
        "  * cv2(opencv-python==4.7.0.72)\n",
        "  * numpy(numpy==1.22.4)\n",
        "  * pandas(pandas==1.5.3)\n",
        "  * matplotlib(matplotlib==3.7.1)\n",
        "  * zipfile, random, math, shutil, os"
      ],
      "metadata": {
        "id": "Q_8PiW9AMqQh"
      }
    },
    {
      "cell_type": "markdown",
      "source": [
        "# STEP 0. Version check and Install Dependency"
      ],
      "metadata": {
        "id": "LxkMBWDW9T3P"
      }
    },
    {
      "cell_type": "markdown",
      "source": [
        "Step 0-1. Install Dependency"
      ],
      "metadata": {
        "id": "LfgM8S72TidO"
      }
    },
    {
      "cell_type": "code",
      "source": [
        "!pip install opencv--python"
      ],
      "metadata": {
        "collapsed": true,
        "id": "-niTKAk-M54m"
      },
      "execution_count": null,
      "outputs": []
    },
    {
      "cell_type": "markdown",
      "source": [
        "Step 0-2. Version Check"
      ],
      "metadata": {
        "id": "0Fg2WcTOqf5A"
      }
    },
    {
      "cell_type": "code",
      "source": [
        "import sys\n",
        "import torch\n",
        "print(f\"Python version:{sys.versioㅐn}\")                  # python\n",
        "print(\"Torch version:{}\".format(torch.__version__))     # torch\n",
        "print(\"cuda version: {}\".format(torch.version.cuda))    # cuda\n",
        "print(\"cudnn version:{}\".format(torch.backends.cudnn.version()))    # cudnn"
      ],
      "metadata": {
        "id": "pvZ7Lm3Apv1B",
        "collapsed": true
      },
      "execution_count": null,
      "outputs": []
    },
    {
      "cell_type": "code",
      "source": [
        "!pip list"
      ],
      "metadata": {
        "collapsed": true,
        "id": "9v0TRhv5TudL"
      },
      "execution_count": null,
      "outputs": []
    },
    {
      "cell_type": "markdown",
      "source": [
        "Step 0-3. Install Data"
      ],
      "metadata": {
        "id": "FOF78xJ1T2lL"
      }
    },
    {
      "cell_type": "code",
      "source": [
        "!export KAGGLE_USERNAME=merucode && export KAGGLE_KEY=929873bded61bcd9be3a12e4ec85e04b && kaggle competitions download -c aerial-cactus-identification"
      ],
      "metadata": {
        "collapsed": true,
        "id": "9m2Gh7jjT5QL"
      },
      "execution_count": null,
      "outputs": []
    },
    {
      "cell_type": "code",
      "source": [
        "!unzip aerial-cactus-identification.zip"
      ],
      "metadata": {
        "collapsed": true,
        "id": "L-VRsRh8UhtC"
      },
      "execution_count": null,
      "outputs": []
    },
    {
      "cell_type": "code",
      "source": [
        "from zipfile import ZipFile\n",
        "\n",
        "data_path = '/content/'\n",
        "\n",
        "with ZipFile(data_path + 'train.zip') as zipper:\n",
        "  zipper.extractall()\n",
        "\n",
        "with ZipFile(data_path + 'test.zip') as zipper:\n",
        "  zipper.extractall()"
      ],
      "metadata": {
        "collapsed": true,
        "id": "O8C7SzT7UlEu"
      },
      "execution_count": null,
      "outputs": []
    },
    {
      "cell_type": "markdown",
      "source": [
        "# STEP 1. Check Data"
      ],
      "metadata": {
        "id": "TquybxQaqfE5"
      }
    },
    {
      "cell_type": "markdown",
      "source": [
        "Step 1-1. Check data"
      ],
      "metadata": {
        "id": "OiEgwO4nzBQ4"
      }
    },
    {
      "cell_type": "code",
      "source": [
        "import pandas as pd\n",
        "\n",
        "data_path = '/content/'\n",
        "\n",
        "labels = pd.read_csv(data_path + 'train.csv')\n",
        "submission = pd.read_csv(data_path + 'sample_submission.csv')"
      ],
      "metadata": {
        "id": "O_1DAWvLxNST"
      },
      "execution_count": null,
      "outputs": []
    },
    {
      "cell_type": "code",
      "source": [
        "labels.head(3)"
      ],
      "metadata": {
        "id": "ERzuAmCnV6sW"
      },
      "execution_count": null,
      "outputs": []
    },
    {
      "cell_type": "code",
      "source": [
        "submission.head(3)"
      ],
      "metadata": {
        "id": "oE8h1MdeWEKQ"
      },
      "execution_count": null,
      "outputs": []
    },
    {
      "cell_type": "markdown",
      "source": [
        "Step 1-2. Data Visualize"
      ],
      "metadata": {
        "id": "yLz34AIjzFI_"
      }
    },
    {
      "cell_type": "code",
      "source": [
        "import matplotlib as mpl\n",
        "import matplotlib.pyplot as plt\n",
        "%matplotlib inline\n",
        "\n",
        "mpl.rc('font', size=15)\n",
        "plt.figure(figsize=(7, 7))\n",
        "label = ['Has cactus', 'Hasn\\'t cactus']  # 타깃값 레이블\n",
        "# 타깃값 분포 파이 그래프\n",
        "plt.pie(labels['has_cactus'].value_counts(), labels=label, autopct='%.1f%%')"
      ],
      "metadata": {
        "collapsed": true,
        "id": "A5ybi6s9V5-6"
      },
      "execution_count": null,
      "outputs": []
    },
    {
      "cell_type": "code",
      "source": [
        "import os\n",
        "\n",
        "num_train = len(os.listdir('train/'))\n",
        "num_test = len(os.listdir('test/'))\n",
        "\n",
        "print(f'훈련 데이트 갯수: {num_train}')\n",
        "print(f'테스트 데이트 갯수: {num_test}')"
      ],
      "metadata": {
        "id": "BIwItmZr48ck"
      },
      "execution_count": null,
      "outputs": []
    },
    {
      "cell_type": "markdown",
      "source": [
        "Step 1-3. Data Image Visualize"
      ],
      "metadata": {
        "id": "RknwhV_yzNcJ"
      }
    },
    {
      "cell_type": "code",
      "source": [
        "import matplotlib.gridspec as gridspec\n",
        "import cv2 # OpenCV 라이브러리\n",
        "\n",
        "# 선인장을 포함하는 이미지 파일명(마지막 12개)\n",
        "last_has_cactus_img_name = labels[labels['has_cactus']==1]['id'][-12:]\n",
        "\n",
        "def image_show(path, img_names):\n",
        "  mpl.rc('font', size=7)\n",
        "  plt.figure(figsize=(15, 6)) # 전체 Figure 크기 설정\n",
        "  grid = gridspec.GridSpec(2, 6) # 서브플롯 배치\n",
        "\n",
        "  for idx, img_name in enumerate(img_names):\n",
        "    img_path = path + img_name                      # 이미지 파일 경로\n",
        "    image = cv2.imread(img_path)                    # 이미지 파일 읽기\n",
        "    image = cv2.cvtColor(image, cv2.COLOR_BGR2RGB)  # 이미지 색상 보정\n",
        "    ax = plt.subplot(grid[idx])\n",
        "    ax.imshow(image)                                # 이미지 출력\n",
        "\n",
        "# 이미지 출력\n",
        "image_show('train/', last_has_cactus_img_name)"
      ],
      "metadata": {
        "id": "9iemQGYizTJI"
      },
      "execution_count": null,
      "outputs": []
    },
    {
      "cell_type": "code",
      "source": [
        "# 선인장을 포함하지 않는 이미지 파일명(마지막 12개)\n",
        "last_hasnt_cactus_img_name = labels[labels['has_cactus']==0]['id'][-12:]\n",
        "\n",
        "# 이미지 출력\n",
        "image_show('train/', last_hasnt_cactus_img_name)"
      ],
      "metadata": {
        "id": "O6E6HObR0v5Z"
      },
      "execution_count": null,
      "outputs": []
    },
    {
      "cell_type": "markdown",
      "source": [
        "# STEP 2. Setting for Modeling"
      ],
      "metadata": {
        "id": "PwqEIVGS1rtU"
      }
    },
    {
      "cell_type": "markdown",
      "source": [
        "Step 2-1. Seed"
      ],
      "metadata": {
        "id": "D9H9zmkC11uZ"
      }
    },
    {
      "cell_type": "code",
      "source": [
        "import torch\n",
        "import random\n",
        "import numpy as np\n",
        "import os\n",
        "\n",
        "# 시드값 고정\n",
        "seed = 50\n",
        "os.environ['PYTHONHASHSEED'] = str(seed)\n",
        "random.seed(seed)                 # 파이썬 난수 생석이 시드 고정\n",
        "np.random.seed(seed)              # 넘파이 난수 생성기 시드 고정\n",
        "torch.manual_seed(seed)           # 파이토치 난수 생성기 시드 고정(CPU 사용시)\n",
        "torch.cuda.manual_seed(seed)      # 파이토치 난수 생성기 시드 고정(GPU 사용시)\n",
        "torch.cuda.manual_seed_all(seed)  # 파이토치 난수 생성기 시드 고정(멀티 GPU 사용 시)\n",
        "torch.backends.cudnn.deterministic = True # 확정적 연산 사용\n",
        "torch.backends.cudnn.benchmark = False    # 벤치마크 기능 해제\n",
        "torch.backends.cudnn.enabled = False      # cudnn 사용 해제"
      ],
      "metadata": {
        "id": "flGdAWM811ct"
      },
      "execution_count": null,
      "outputs": []
    },
    {
      "cell_type": "markdown",
      "source": [
        "Step 2-2.GPU 장비 설정"
      ],
      "metadata": {
        "id": "ieRL-cJ-2stM"
      }
    },
    {
      "cell_type": "code",
      "source": [
        "device = torch.device('cuda' if torch.cuda.is_available() else 'cpu')\n",
        "\n",
        "device"
      ],
      "metadata": {
        "id": "hCyRsU3I2wAc"
      },
      "execution_count": null,
      "outputs": []
    },
    {
      "cell_type": "markdown",
      "source": [
        "# STEP 3. Dataset"
      ],
      "metadata": {
        "id": "dHoQK0Vw5UWP"
      }
    },
    {
      "cell_type": "markdown",
      "source": [
        "Step 3-1. Load Data"
      ],
      "metadata": {
        "id": "vv-BeF_h1rap"
      }
    },
    {
      "cell_type": "code",
      "source": [
        "import pandas as pd\n",
        "\n",
        "data_path = '/content/'\n",
        "\n",
        "labels = pd.read_csv(data_path + 'train.csv')\n",
        "submission = pd.read_csv(data_path + 'sample_submission.csv')"
      ],
      "metadata": {
        "id": "B4jMESbH5T7X"
      },
      "execution_count": null,
      "outputs": []
    },
    {
      "cell_type": "code",
      "source": [
        "from sklearn.model_selection import train_test_split\n",
        "\n",
        "# 훈련 데이터, 검증 데이터 세트 분리\n",
        "train, valid = train_test_split(labels,\n",
        "                                test_size=0.1,                 # 9:1 비율로 test 세트 생성\n",
        "                                stratify=labels['has_cactus'], # 훈련 데이터, 검증 데이터 티깃값 비율 3:1 유지\n",
        "                                random_state=50)\n",
        "\n",
        "print(f\"훈련 데이터 개수: {len(train)}\")\n",
        "print(f\"검증 데이터 개수: {len(valid)}\")\n",
        "train.head(3)"
      ],
      "metadata": {
        "id": "NEhlK9uz3SVF"
      },
      "execution_count": null,
      "outputs": []
    },
    {
      "cell_type": "markdown",
      "source": [
        "Step 3-2. Dataset"
      ],
      "metadata": {
        "id": "3OR2BLnm3IKM"
      }
    },
    {
      "cell_type": "code",
      "source": [
        "import cv2\n",
        "from torch.utils.data import Dataset\n",
        "\n",
        "class ImageDataset(Dataset):\n",
        "  # 초기화 메서드(생성자)\n",
        "  def __init__(self, df, img_dir='./', transform=None):\n",
        "    super().__init__() # 상송받은 Dataset 생성자 호출\n",
        "    # 전달받은 인수들 저장\n",
        "    self.df = df\n",
        "    self.img_dir = img_dir\n",
        "    self.transform = transform\n",
        "\n",
        "  # 데이터셋 크기 반환 메서드\n",
        "  def __len__(self):\n",
        "    return len(self.df)\n",
        "\n",
        "  # idx 해당하는 데이터 반환 메서드\n",
        "  def __getitem__(self, idx):\n",
        "    img_id = self.df.iloc[idx, 0]       # 이미지 ID\n",
        "    img_path = self.img_dir + img_id    # 이미지 파일 경로\n",
        "    image = cv2.imread(img_path)        # 이미지 파일 읽기\n",
        "    image = cv2.cvtColor(image, cv2.COLOR_BGR2RGB)  # 이미지 색상 보정\n",
        "    label = self.df.iloc[idx, 1]        # 이미지 레이블(타깃값)\n",
        "\n",
        "    if self.transform is not None:\n",
        "      image = self.transform(image)     # 변화기가 있다면 이미지 변환\n",
        "\n",
        "    return image, label"
      ],
      "metadata": {
        "id": "pFTWbgSa1p7Z"
      },
      "execution_count": null,
      "outputs": []
    },
    {
      "cell_type": "code",
      "source": [
        "from torchvision import transforms # 이미지 변환을 위한 모듈\n",
        "\n",
        "transform = transforms.ToTensor()\n",
        "\n",
        "dataset_train = ImageDataset(df=train, img_dir='train/', transform=transform)\n",
        "dataset_valid = ImageDataset(df=valid, img_dir='train/', transform=transform)"
      ],
      "metadata": {
        "id": "xypihBVa54gv"
      },
      "execution_count": null,
      "outputs": []
    },
    {
      "cell_type": "markdown",
      "source": [
        "Step 3-3. Dataloader"
      ],
      "metadata": {
        "id": "_ZtaJBsW3LUJ"
      }
    },
    {
      "cell_type": "code",
      "source": [
        "from torch.utils.data import DataLoader # 데이터 로더 클래스\n",
        "\n",
        "loader_train = DataLoader(dataset=dataset_train, batch_size=32, shuffle=True)\n",
        "loader_vaild = DataLoader(dataset=dataset_valid, batch_size=32, shuffle=False)"
      ],
      "metadata": {
        "id": "n-lUSwZJ1qVJ"
      },
      "execution_count": null,
      "outputs": []
    },
    {
      "cell_type": "markdown",
      "source": [
        "# STEP 4. Module"
      ],
      "metadata": {
        "id": "UPv6ybM8zJYk"
      }
    },
    {
      "cell_type": "code",
      "source": [
        "import torch.nn as nn             # 신경망 모듈\n",
        "import torch.nn.functional as F   # 신경망 모듈에서 자주 사용되는 함수\n",
        "\n",
        "class Model(nn.Module):\n",
        "  # 신경망 계층 정의\n",
        "  def __init__(self):\n",
        "    super().__init__() # 상속받은 nn.Module의 __init__() 메서드 호출\n",
        "\n",
        "    # 첫 번째 합성곱 계층\n",
        "    self.conv1 = nn.Conv2d(in_channels=3, out_channels=32,\n",
        "                           kernel_size=3, padding=2)\n",
        "\n",
        "    # 두 번째 합성곱 계층\n",
        "    self.conv2 = nn.Conv2d(in_channels=32, out_channels=64,\n",
        "                           kernel_size=3, padding=2)\n",
        "\n",
        "    # 최대 풀링 계층()\n",
        "    self.max_pool = nn.MaxPool2d(kernel_size=2)\n",
        "\n",
        "    # 평균 풀링 계층\n",
        "    self.avg_pool = nn.AvgPool2d(kernel_size=2)\n",
        "\n",
        "    # 전결합 계층\n",
        "    self.fc = nn.Linear(in_features=64*4*4, out_features=2)\n",
        "\n",
        "  # 순전파 출력 정의\n",
        "  def forward(self, x):\n",
        "    x = self.max_pool(F.relu(self.conv1(x)))  # 3*32*32  > 32*34*34 > 32*17*17\n",
        "    x = self.max_pool(F.relu(self.conv2(x)))  # 32*17*17 > 64*19*19 > 64*9*9\n",
        "    x = self.avg_pool(x)                      # 64*9*9 > 64*4*4\n",
        "    x = x.view(-1, 64*4*4)  # 평탄화          # 64*4*4 > 1024\n",
        "    x = self.fc(x)                            # 1024 > 2\n",
        "    return x"
      ],
      "metadata": {
        "id": "QQnNmDIS5iyx"
      },
      "execution_count": null,
      "outputs": []
    },
    {
      "cell_type": "markdown",
      "source": [
        "# STEP 5. Learning"
      ],
      "metadata": {
        "id": "Qa9kBj02zz7m"
      }
    },
    {
      "cell_type": "markdown",
      "source": [
        "Step 5-1. Setting"
      ],
      "metadata": {
        "id": "cg8ZCYcJ0JIz"
      }
    },
    {
      "cell_type": "code",
      "source": [
        "import tqdm\n",
        "from torch.optim.adam import Adam\n",
        "\n",
        "device = \"cuda\" if torch.cuda.is_available() else \"cpu\"\n",
        "model = Model().to(device)\n",
        "\n",
        "# 손실 함수\n",
        "criterion = nn.CrossEntropyLoss()\n",
        "# 옵티마이저\n",
        "optim = Adam(model.parameters(), lr=0.01)"
      ],
      "metadata": {
        "id": "B8clGgz65sxJ"
      },
      "execution_count": null,
      "outputs": []
    },
    {
      "cell_type": "markdown",
      "source": [
        "Step 5-2. Learning"
      ],
      "metadata": {
        "id": "lH9EvJSJz-AX"
      }
    },
    {
      "cell_type": "code",
      "source": [
        "epochs = 10 # 총 에폭\n",
        "\n",
        "for epoch in range(epochs):\n",
        "  epoch_loss = 0 # 에폭별 손실값 초기화\n",
        "\n",
        "  # 반복 횟수 만큼 반복\n",
        "  for images, labels in loader_train:\n",
        "    # 이미지, 레이블 데이터 미니배치를 장비에 할당\n",
        "    images = images.to(device)\n",
        "    labels = labels.to(device)\n",
        "\n",
        "    optim.zero_grad()         # 옵티마이저 기울기 초기화\n",
        "    outputs = model(images)   # 순전파 : 이미지 데이터를 신경망 모델의 입력값으로 사용해 출력값 계산\n",
        "    loss = criterion(outputs, labels)   # 손실값 계산(예측값과 타깃값의 오차)\n",
        "    epoch_loss += loss.item() # 현재 배치에서의 손실 추가\n",
        "    loss.backward()           # 역전파 수행\n",
        "    optim.step()     # 가중치 갱신\n",
        "\n",
        "  # 훈련 데이터 손실값 출력\n",
        "  print(f\"에폭 [{epoch+1}/{epochs}] - 손실값: {epoch_loss/len(loader_train):.4f}\")"
      ],
      "metadata": {
        "id": "krz6kIYz52wm"
      },
      "execution_count": null,
      "outputs": []
    },
    {
      "cell_type": "markdown",
      "source": [
        "# STEP 6. Validation"
      ],
      "metadata": {
        "id": "sdk0NFRA085c"
      }
    },
    {
      "cell_type": "markdown",
      "source": [
        "Step 6-1. Setting"
      ],
      "metadata": {
        "id": "eJpeWQqqAbyq"
      }
    },
    {
      "cell_type": "code",
      "source": [
        "from sklearn.metrics import roc_auc_score # ROC ACU\n",
        "# 실제값과 예측 확률값을 담을 리스트 초기화\n",
        "true_list = []\n",
        "preds_list = []\n",
        "\n",
        "# 모델을 평가 상태로 설정\n",
        "model.eval()"
      ],
      "metadata": {
        "id": "6t5jawBx8ibI"
      },
      "execution_count": null,
      "outputs": []
    },
    {
      "cell_type": "markdown",
      "source": [
        "Step 6-2. Model Validation"
      ],
      "metadata": {
        "id": "XWZzeX2QAadF"
      }
    },
    {
      "cell_type": "code",
      "source": [
        "with torch.no_grad(): # 기울기 계산 비활성화\n",
        "  for images, labels in loader_vaild:\n",
        "    # 이미지, 레이블 데이터 미니배치를 장비에 활당\n",
        "    images = images.to(device)\n",
        "    labels = labels.to(device)\n",
        "\n",
        "    # 순전파\n",
        "    outputs = model(images) # output 2개로 구성(타깃값 0에 대한 출력값, 타깃값 1에 대한 출력값)\n",
        "    preds = torch.softmax(outputs.cpu(), dim=1)[:, 1] # 예측값 1에 대한 예측 확률\n",
        "    true = labels.cpu() # 실제값\n",
        "\n",
        "    # 예측 확률과 실제값을 리스트에 추가\n",
        "    preds_list.extend(preds)\n",
        "    true_list.extend(true)\n",
        "\n",
        "\n",
        "# 검증 데이터 ROC AUC 점수 계산\n",
        "print(f\"검증 데이터 ROU AUC: {roc_auc_score(true_list, preds_list):.4f}\")"
      ],
      "metadata": {
        "id": "0FP5Qr7CAaX1"
      },
      "execution_count": null,
      "outputs": []
    },
    {
      "cell_type": "markdown",
      "source": [
        "# STEP 7. Evaluation and Submission"
      ],
      "metadata": {
        "id": "_TzxvoFCAZT7"
      }
    },
    {
      "cell_type": "markdown",
      "source": [
        "Step 7-1. Setting"
      ],
      "metadata": {
        "id": "e4NkzUqjFMv0"
      }
    },
    {
      "cell_type": "code",
      "source": [
        "dataset_test = ImageDataset(df=submission, img_dir='test/', transform=transform)\n",
        "loader_test = DataLoader(dataset=dataset_test, batch_size=32, shuffle=False)"
      ],
      "metadata": {
        "id": "bs7stCVDFKcY"
      },
      "execution_count": null,
      "outputs": []
    },
    {
      "cell_type": "markdown",
      "source": [
        "Step 7-2. Evaluation"
      ],
      "metadata": {
        "id": "8K8oHdB4FZZU"
      }
    },
    {
      "cell_type": "code",
      "source": [
        "model.eval()  # 모델 평가 상태로 설정\n",
        "\n",
        "preds = []    # 타깃 예측값 저장용 리스트 초기화\n",
        "\n",
        "with torch.no_grad(): # 기울기 계산 비활성화\n",
        "  for images, _ in loader_test:\n",
        "    # 이미지 데이터 미니배치를 장비에 할당\n",
        "    images = images.to(device)\n",
        "\n",
        "    # 순전파\n",
        "    outputs = model(images)\n",
        "    # 타깃값이 1일 확률(예측값)\n",
        "    preds_part = torch.softmax(outputs.cpu(), dim=1)[:, 1].tolist()\n",
        "    # preds에 preds_part 이어 붙이기\n",
        "    preds.extend(preds_part)"
      ],
      "metadata": {
        "id": "Z4RI5dL7FOQL"
      },
      "execution_count": null,
      "outputs": []
    },
    {
      "cell_type": "markdown",
      "source": [
        "Step 7-3. Submission"
      ],
      "metadata": {
        "id": "wrKX3dBvF5Ib"
      }
    },
    {
      "cell_type": "code",
      "source": [
        "submission['has_cactus'] = preds                  # submission df 결과값 재설정\n",
        "submission.to_csv('submission.csv', index=False)  # 제출 파일 생성\n",
        "\n",
        "# # 이미지 테스트 데이터 삭제\n",
        "# import shutil\n",
        "\n",
        "# shutil.rmtree('./train')\n",
        "# shutil.rmtree('./test')"
      ],
      "metadata": {
        "id": "e7NJo_4fF6U-"
      },
      "execution_count": null,
      "outputs": []
    },
    {
      "cell_type": "code",
      "source": [
        "submission.head(3)"
      ],
      "metadata": {
        "id": "kUGAE_cmGdsn"
      },
      "execution_count": null,
      "outputs": []
    }
  ]
}